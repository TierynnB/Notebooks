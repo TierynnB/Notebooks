{
  "cells": [
    {
      "cell_type": "code",
      "execution_count": 2,
      "metadata": {
        "id": "pCVJNzfGKpN9"
      },
      "outputs": [],
      "source": [
        "from fastai.vision.all import *\n",
        "from fastai.vision.widgets import *\n",
        "\n",
        "import pathlib\n",
        "temp = pathlib.PosixPath\n",
        "pathlib.PosixPath = pathlib.WindowsPath\n",
        "\n",
        "!jupyter serverextension enable --sys-prefix voila"
      ]
    },
    {
      "cell_type": "code",
      "execution_count": 3,
      "metadata": {
        "id": "sy5ITOPPKXMb"
      },
      "outputs": [],
      "source": [
        "\n",
        "learn_inf = load_learner('export.pkl', cpu=True)\n",
        "btn_upload = widgets.FileUpload()\n",
        "out_pl = widgets.Output()\n",
        "lbl_pred = widgets.Label()\n",
        "\n",
        "#hide_output\n",
        "btn_run = widgets.Button(description='Classify')\n",
        "\n",
        "\n"
      ]
    },
    {
      "cell_type": "code",
      "execution_count": null,
      "metadata": {
        "id": "CP8OEyDMKiR7"
      },
      "outputs": [],
      "source": [
        "def on_data_change(change):\n",
        "    lbl_pred.value = ''\n",
        "    img = PILImage.create(btn_upload.data[-1])\n",
        "    out_pl.clear_output()\n",
        "    with out_pl: display(img.to_thumb(128,128))\n",
        "    pred,pred_idx,probs = learn_inf.predict(img)\n",
        "    lbl_pred.value = f'Prediction: {pred}; Probability: {probs[pred_idx]:.04f}'\n",
        "\n",
        "btn_run.on_click(on_data_change)"
      ]
    },
    {
      "cell_type": "code",
      "execution_count": 5,
      "metadata": {
        "colab": {
          "base_uri": "https://localhost:8080/",
          "height": 169,
          "referenced_widgets": [
            "683587145a7d43a38a42e16021d98698",
            "95004f7e8edb4dcb93b79bed9f93e154",
            "56795221e3ee4102a0d4d22fd5bd870b",
            "dc1b6cba62db4d91aa7e501b705665b8",
            "65ca9976d11146e0b22e514a6457f550",
            "96fd35adb236411b984973d706608c0d",
            "054dfdaf793845c2a5ac2c6a48c67fd6",
            "eac08f6283934be28ef50326dafb4515",
            "aab699af0e3448c4a1e9f728af47e595",
            "e77b1ad969e047c0bfe936b597819a04",
            "06ae4f1253fb4b3791ec8aacd2d30161",
            "95b02d569ba6441688d55176195a4fba",
            "e7812882330c42c9b970a04de6585811"
          ]
        },
        "id": "tRWFuAwGtpvL",
        "outputId": "cd929433-5729-40d2-8061-55d0fb996e0e"
      },
      "outputs": [
        {
          "data": {
            "application/vnd.jupyter.widget-view+json": {
              "model_id": "4a90cb888196455bb2e023b45acb556f",
              "version_major": 2,
              "version_minor": 0
            },
            "text/plain": [
              "VBox(children=(Label(value='Select your bear!'), FileUpload(value=(), description='Upload'), Button(descriptio…"
            ]
          },
          "metadata": {},
          "output_type": "display_data"
        }
      ],
      "source": [
        "display(VBox([widgets.Label('Select your bear!'), btn_upload, btn_run,out_pl, lbl_pred]))"
      ]
    },
    {
      "cell_type": "code",
      "execution_count": null,
      "metadata": {
        "id": "7Pis7AN-uDbP"
      },
      "outputs": [],
      "source": [
        "pathlib.PosixPath = temp"
      ]
    }
  ],
  "metadata": {
    "colab": {
      "authorship_tag": "ABX9TyOQC5qHg1xIOQHzZlWbe6LK",
      "include_colab_link": true,
      "provenance": []
    },
    "kernelspec": {
      "display_name": "Python 3",
      "name": "python3"
    },
    "language_info": {
      "codemirror_mode": {
        "name": "ipython",
        "version": 3
      },
      "file_extension": ".py",
      "mimetype": "text/x-python",
      "name": "python",
      "nbconvert_exporter": "python",
      "pygments_lexer": "ipython3",
      "version": "3.11.3"
    },
    "widgets": {
      "application/vnd.jupyter.widget-state+json": {
        "054dfdaf793845c2a5ac2c6a48c67fd6": {
          "model_module": "@jupyter-widgets/base",
          "model_module_version": "1.2.0",
          "model_name": "LayoutModel",
          "state": {
            "_model_module": "@jupyter-widgets/base",
            "_model_module_version": "1.2.0",
            "_model_name": "LayoutModel",
            "_view_count": null,
            "_view_module": "@jupyter-widgets/base",
            "_view_module_version": "1.2.0",
            "_view_name": "LayoutView",
            "align_content": null,
            "align_items": null,
            "align_self": null,
            "border": null,
            "bottom": null,
            "display": null,
            "flex": null,
            "flex_flow": null,
            "grid_area": null,
            "grid_auto_columns": null,
            "grid_auto_flow": null,
            "grid_auto_rows": null,
            "grid_column": null,
            "grid_gap": null,
            "grid_row": null,
            "grid_template_areas": null,
            "grid_template_columns": null,
            "grid_template_rows": null,
            "height": null,
            "justify_content": null,
            "justify_items": null,
            "left": null,
            "margin": null,
            "max_height": null,
            "max_width": null,
            "min_height": null,
            "min_width": null,
            "object_fit": null,
            "object_position": null,
            "order": null,
            "overflow": null,
            "overflow_x": null,
            "overflow_y": null,
            "padding": null,
            "right": null,
            "top": null,
            "visibility": null,
            "width": null
          }
        },
        "06ae4f1253fb4b3791ec8aacd2d30161": {
          "model_module": "@jupyter-widgets/base",
          "model_module_version": "1.2.0",
          "model_name": "LayoutModel",
          "state": {
            "_model_module": "@jupyter-widgets/base",
            "_model_module_version": "1.2.0",
            "_model_name": "LayoutModel",
            "_view_count": null,
            "_view_module": "@jupyter-widgets/base",
            "_view_module_version": "1.2.0",
            "_view_name": "LayoutView",
            "align_content": null,
            "align_items": null,
            "align_self": null,
            "border": null,
            "bottom": null,
            "display": null,
            "flex": null,
            "flex_flow": null,
            "grid_area": null,
            "grid_auto_columns": null,
            "grid_auto_flow": null,
            "grid_auto_rows": null,
            "grid_column": null,
            "grid_gap": null,
            "grid_row": null,
            "grid_template_areas": null,
            "grid_template_columns": null,
            "grid_template_rows": null,
            "height": null,
            "justify_content": null,
            "justify_items": null,
            "left": null,
            "margin": null,
            "max_height": null,
            "max_width": null,
            "min_height": null,
            "min_width": null,
            "object_fit": null,
            "object_position": null,
            "order": null,
            "overflow": null,
            "overflow_x": null,
            "overflow_y": null,
            "padding": null,
            "right": null,
            "top": null,
            "visibility": null,
            "width": null
          }
        },
        "56795221e3ee4102a0d4d22fd5bd870b": {
          "model_module": "@jupyter-widgets/controls",
          "model_module_version": "1.5.0",
          "model_name": "FileUploadModel",
          "state": {
            "_counter": 1,
            "_dom_classes": [],
            "_model_module": "@jupyter-widgets/controls",
            "_model_module_version": "1.5.0",
            "_model_name": "FileUploadModel",
            "_view_count": null,
            "_view_module": "@jupyter-widgets/controls",
            "_view_module_version": "1.5.0",
            "_view_name": "FileUploadView",
            "accept": "",
            "button_style": "",
            "data": [
              null
            ],
            "description": "Upload",
            "description_tooltip": null,
            "disabled": false,
            "error": "",
            "icon": "upload",
            "layout": "IPY_MODEL_aab699af0e3448c4a1e9f728af47e595",
            "metadata": [
              {
                "lastModified": 1674042722953,
                "name": "images.jfif",
                "size": 6108,
                "type": "image/jpeg"
              }
            ],
            "multiple": false,
            "style": "IPY_MODEL_e77b1ad969e047c0bfe936b597819a04"
          }
        },
        "65ca9976d11146e0b22e514a6457f550": {
          "model_module": "@jupyter-widgets/controls",
          "model_module_version": "1.5.0",
          "model_name": "LabelModel",
          "state": {
            "_dom_classes": [],
            "_model_module": "@jupyter-widgets/controls",
            "_model_module_version": "1.5.0",
            "_model_name": "LabelModel",
            "_view_count": null,
            "_view_module": "@jupyter-widgets/controls",
            "_view_module_version": "1.5.0",
            "_view_name": "LabelView",
            "description": "",
            "description_tooltip": null,
            "layout": "IPY_MODEL_06ae4f1253fb4b3791ec8aacd2d30161",
            "placeholder": "​",
            "style": "IPY_MODEL_95b02d569ba6441688d55176195a4fba",
            "value": "Prediction: grizzly; Probability: 1.0000"
          }
        },
        "683587145a7d43a38a42e16021d98698": {
          "model_module": "@jupyter-widgets/controls",
          "model_module_version": "1.5.0",
          "model_name": "VBoxModel",
          "state": {
            "_dom_classes": [],
            "_model_module": "@jupyter-widgets/controls",
            "_model_module_version": "1.5.0",
            "_model_name": "VBoxModel",
            "_view_count": null,
            "_view_module": "@jupyter-widgets/controls",
            "_view_module_version": "1.5.0",
            "_view_name": "VBoxView",
            "box_style": "",
            "children": [
              "IPY_MODEL_95004f7e8edb4dcb93b79bed9f93e154",
              "IPY_MODEL_56795221e3ee4102a0d4d22fd5bd870b",
              "IPY_MODEL_dc1b6cba62db4d91aa7e501b705665b8",
              "IPY_MODEL_65ca9976d11146e0b22e514a6457f550"
            ],
            "layout": "IPY_MODEL_96fd35adb236411b984973d706608c0d"
          }
        },
        "95004f7e8edb4dcb93b79bed9f93e154": {
          "model_module": "@jupyter-widgets/controls",
          "model_module_version": "1.5.0",
          "model_name": "LabelModel",
          "state": {
            "_dom_classes": [],
            "_model_module": "@jupyter-widgets/controls",
            "_model_module_version": "1.5.0",
            "_model_name": "LabelModel",
            "_view_count": null,
            "_view_module": "@jupyter-widgets/controls",
            "_view_module_version": "1.5.0",
            "_view_name": "LabelView",
            "description": "",
            "description_tooltip": null,
            "layout": "IPY_MODEL_054dfdaf793845c2a5ac2c6a48c67fd6",
            "placeholder": "​",
            "style": "IPY_MODEL_eac08f6283934be28ef50326dafb4515",
            "value": "Select your bear!"
          }
        },
        "95b02d569ba6441688d55176195a4fba": {
          "model_module": "@jupyter-widgets/controls",
          "model_module_version": "1.5.0",
          "model_name": "DescriptionStyleModel",
          "state": {
            "_model_module": "@jupyter-widgets/controls",
            "_model_module_version": "1.5.0",
            "_model_name": "DescriptionStyleModel",
            "_view_count": null,
            "_view_module": "@jupyter-widgets/base",
            "_view_module_version": "1.2.0",
            "_view_name": "StyleView",
            "description_width": ""
          }
        },
        "96fd35adb236411b984973d706608c0d": {
          "model_module": "@jupyter-widgets/base",
          "model_module_version": "1.2.0",
          "model_name": "LayoutModel",
          "state": {
            "_model_module": "@jupyter-widgets/base",
            "_model_module_version": "1.2.0",
            "_model_name": "LayoutModel",
            "_view_count": null,
            "_view_module": "@jupyter-widgets/base",
            "_view_module_version": "1.2.0",
            "_view_name": "LayoutView",
            "align_content": null,
            "align_items": null,
            "align_self": null,
            "border": null,
            "bottom": null,
            "display": null,
            "flex": null,
            "flex_flow": null,
            "grid_area": null,
            "grid_auto_columns": null,
            "grid_auto_flow": null,
            "grid_auto_rows": null,
            "grid_column": null,
            "grid_gap": null,
            "grid_row": null,
            "grid_template_areas": null,
            "grid_template_columns": null,
            "grid_template_rows": null,
            "height": null,
            "justify_content": null,
            "justify_items": null,
            "left": null,
            "margin": null,
            "max_height": null,
            "max_width": null,
            "min_height": null,
            "min_width": null,
            "object_fit": null,
            "object_position": null,
            "order": null,
            "overflow": null,
            "overflow_x": null,
            "overflow_y": null,
            "padding": null,
            "right": null,
            "top": null,
            "visibility": null,
            "width": null
          }
        },
        "aab699af0e3448c4a1e9f728af47e595": {
          "model_module": "@jupyter-widgets/base",
          "model_module_version": "1.2.0",
          "model_name": "LayoutModel",
          "state": {
            "_model_module": "@jupyter-widgets/base",
            "_model_module_version": "1.2.0",
            "_model_name": "LayoutModel",
            "_view_count": null,
            "_view_module": "@jupyter-widgets/base",
            "_view_module_version": "1.2.0",
            "_view_name": "LayoutView",
            "align_content": null,
            "align_items": null,
            "align_self": null,
            "border": null,
            "bottom": null,
            "display": null,
            "flex": null,
            "flex_flow": null,
            "grid_area": null,
            "grid_auto_columns": null,
            "grid_auto_flow": null,
            "grid_auto_rows": null,
            "grid_column": null,
            "grid_gap": null,
            "grid_row": null,
            "grid_template_areas": null,
            "grid_template_columns": null,
            "grid_template_rows": null,
            "height": null,
            "justify_content": null,
            "justify_items": null,
            "left": null,
            "margin": null,
            "max_height": null,
            "max_width": null,
            "min_height": null,
            "min_width": null,
            "object_fit": null,
            "object_position": null,
            "order": null,
            "overflow": null,
            "overflow_x": null,
            "overflow_y": null,
            "padding": null,
            "right": null,
            "top": null,
            "visibility": null,
            "width": null
          }
        },
        "dc1b6cba62db4d91aa7e501b705665b8": {
          "model_module": "@jupyter-widgets/output",
          "model_module_version": "1.0.0",
          "model_name": "OutputModel",
          "state": {
            "_dom_classes": [],
            "_model_module": "@jupyter-widgets/output",
            "_model_module_version": "1.0.0",
            "_model_name": "OutputModel",
            "_view_count": null,
            "_view_module": "@jupyter-widgets/output",
            "_view_module_version": "1.0.0",
            "_view_name": "OutputView",
            "layout": "IPY_MODEL_e7812882330c42c9b970a04de6585811",
            "msg_id": "",
            "outputs": [
              {
                "data": {
                  "image/png": "iVBORw0KGgoAAAANSUhEUgAAAIAAAAA4CAIAAAC6xWeEAAAtiklEQVR4nL28abBl13Uetqa99xnu8O57ryc0gEY3QAAEJ1AmDYqiqXCSLIpWSbKVcuxQk62Ukh8JVVGVnbIrlmPLUf7ISSqVcvmvU0ooU4oqjkumZLhUVpkUxUmcAJKY0XO/+d3pnLP3Xis/znsXl90AGOVH9o+ue8897/Q+31rrW8Nee+PZ8xWSIRKCs1yaspPpaFSIAwAAEwBRij54VTUzBECAAhUMVRnUO1c6KUIhRcGh5LIMwQ80UycEhpBJI5ISAFHIgAAAbdsCACIaYQhBVVUVAADAq5k1oYRQsBnM582sdaoUQigrGoytjXvd9LBdLhfLhVlGBEAoQl0UozJMhAagBZjrDBBQkIL3BMhIim3bNogoIgBgpsICyIrUZWiiHhwdN13DhIO6ZDTQDGaOkBCJCADyyYhmycBUU9s1XbdUzTFa22REAkxmHYKYoRkyCbNr2q6Jmi2rxi4uRdAHIfUpZoGTYYgAaEhQFIU4QcwxRVAwALWIhr0AmNk5xyxgSEgZ8HQQIiGimZklM4qdmgIqC3gEBFCwE5QJAAAQAIignz4YAgKAmpllVTBDIvbOuSyq5pw6n3Ne5jzvGmmXrms8gKlqzikWc1MRqnw1QAIwoIxgCAAiUvhgWYEQsZd7P0k7eWeAlJKZMQEBaE5d2wbHjkmYCu/BLOdspyMlMzMDI+IQPAvmHJkUIceYDAAQRdgUUjIkADREU0hmapYBLCXNmjRGUxMABOuhN7AMhmYWY1TterkAIJNj9IhqpoUriiKIZTNQRFVFBCIgZCRCBIOskBRAiAwQQNEyGCAQnao5gyFgr7xgOceuBwYQsoFBygqqIMKh8CiVWgqlkizaeGg6r6oJkzBLF2PbdDlpiskARFiEENAM0AgVCdE5Vw/qbtm2MZkRAKSUe2VKZnYiAAVEx4iljykyGqiyo+CFmWIXY4yn6p/NFMDUVDUhGiEpqkE2UEJTMDDtUuNcqKuiaxNABlaAZJDVspmlFHNOYIFJJMbsAzknRJgs5ZjNKCdDAiICIwAWch69FC7nJOIEHVgGMwRjQiIEtF6hEU01pmTCXhCRiYw1nShXNlVVMyUzQkKjlDs1YIIYIyIyMyKYGYCZZWZ0TrwPgGg4N+wgRzZCt/SoLCYtECMxMQ8c14ghJ0A0JixCoVmDcyJiasyUGzWFnPs5mJp1AGZqakyAYJXnJoFjJFACQ805dpa1bbumafq/MjNEI8IYY0qRuLciBVSADGSWc8oRPbOHwUbVNWk6naFoUXHbpKyZCJhZ1cQXdT0U55wTco6ITjRSRJiVuKcNAiBHQajw4oENAEAJgQANQL1HERER5zxhzrlDygZmCGCAYGjg2DEgAVGCpLmLnbAQAUHPO0YE5LgXAJiCATM6xz4IoZiBgRlaSkhWmpVqC1M1A82AKN6Jc0PPA7QSLCA6NEdMTpwQIWJKKbZdT2umZooGAAbIYmCEmdGoN/bgAABBISewrCk2qWuarm0bAGBmZj4hILMYIyZFMpLU/4qozM6jYSGhCFVdDEZipNPpXNvkAxOjKTJ7ca4ebA+HI3HinCPnkRABlBBZSJiI1cAAubcAYRESZtasWTMiAxgiOuecYxHnxAFq1kQn8yOAZGoGKBIYkYGqUDfNEno9gt6AuOdjYSYiZmYmIy4KE4feC6GYggEasmYhKM0kZ7ScNWGOiUyYpQyVk4KgIAgEDpCJKAQP2Qws5dS2rfYyM+gZxACQhMAIgVHZFMCSGgAgmIho0phV1VRzzjml5L1nZoATZ0DUO2jLuQFjFkQlFiciWJIvqmpY1tWoi7HpGuZAyGBcFNWg3hgMRoPx2boeigsNSyCrhJ0USpg9tmBi2SE6X3jTLBiEHAIxComRMkCHRMRCToBJCRIcIwCjB+PYGWEg6hCIAECVmb0EzOSJMISUIiIxk5KpQlYkBMJMpBAKH0JRdMQtS8OUui6bRdPM7MqiytGbOsMlUuM8IjKTF69GHUuBZAAABpC6jMbMqpBTNs4AZKaGfRiAYIa5QwQEMOQEpJohGiAAYVZTE2DwktsuMwP0TtzAsDUDFo7GKCoODIIZIYgQOQfiwQc3rM9MxherarBs8vF8r/Abha+Ey9Fwa2vz3HC4UVYTYhbHIuSEnGOHlJHQk0J2ip4peO9Vk4AXccxMRGZGgAZMjMgM0PMWIhAh9kI2MzBhAkZm8D2NpJggU85ZsxEwIhESMSghAnRd61CZyBcsLiFlcWCYkqWYomo2U+8LL2W7hKQCyIDE7AgdkyPinMFUFRUhIwKogWVwhIiI7JyYGMY+BDph886yZk05GxgRERKAIoCZKSgROHGIiKNB7FKMWU9cCPVRY1F5X1moENmBCWiBKCH4onRFKKpye1CdFXFNu0ypHdSbg8FGXY2Hg8lwMBEJMakZiONCuBBxjgUJicBRAeQUvUgRnFdNjEFEmPnEESGiCSECspqhEVpvi0jGZKRmZMLkGUnQEYhliCmScc6aUnLOESEiEhMBgRkLh8LVA+9KNoyKKaZl0piSQvKmYAYIrgiWtBVGREFyiEjkCAtQ12rMGQB6AZgp9U6ImZxzzjm1SITM2OccqpqTxdi1XZtz9t555wGyWR8XKhE7L8RY1kXsckp5uWhms6WqGJpB8qK+tHrMIgzmQUvHo7oeDwfDIgyCHwY/yknTRnYSNjbOlMVAXOFdIexTUtUEADIsJ2C9p2UXWJxDBVMHHIQLRGBm6cmZWVX7mN9jMDA1QAQEZmIGYyJEMrXC+8KXzolmzUmRGcwAVNWapjVTEXHOmVkXO+cKBPTOiVBRFIgtCrbZYkpRNalRykxeKKTI89SamSrmTJqJCA3EkDQRmHSdemdEimhETEwsZKZZEykSqfdilg1MRHICB9QR5BxzzvN5m0IIwt6xavZBRJBZiUE1AZoIEyFANgRFU0ggQD6zNybvuAhuswpnhoPN0Wjs3RBB0CRJHoONRpNQDogdAgJQVlNAZgEwKV2thmAQArOLSBHAEZeMlSkDGGAmZCIiohBCH8hLymonoSgRM4kgMSIxA6JjIWNVQQBiIyQgNUPNSoTMvg+c1NSSxRgRxHtPpGbmgAkhkTNwMUMXc1Ai8ICVZVZQREudpkxZGQCIkIk0Q06gqibATOIcMzgx51HVwJJa7jNHtayaYtS2bRIYgDJjjCnlRAkYqShqFwRADdSAYtScc0pqhmrZedHcAaihARkQGgLhYFifr8tzVdisqlFVVsGNAAjAsmZmBEQlhtPcx3oWNgEACb7s06OqEEXLGpE4uMK7QdeqmQJkwpMITLMaGAAQCZkhmCEgMSE7doREzMKChKagkZywE0ZQtQioasrMIYQTAahCwq7rvGM1S13Hi2wBKecmZ0AXY1os1QkDeIWgmQAzYBYuER2pqCqAYyzFUaaUUuzDwaJwRCqC3qMqppRTzt4P+hgmRsw5q+Zk2UDFsTfHmbz3hSNmMI0GhkRqGmOKMeesKWUE9t6x63N69hUUFZaVv3/r8TObDyFUBMH74LxDYAAAVFRIggAMzIBIPf6GkMGjR0Ah8mYxFGDUqDUGkdiAvFlFJKagkKNm6zNYYlA1VUUAQsKeyIkASp+9r2JyCtSmpk3LkUwCFw7MsQIbAc1RmyYSJxYDpmwxE5rnxBmJ1GjWgRJvDSfvePwv3Hdx69lv/9lXvvzFtiUqyiAlmmVdimASQqxzLpz3k62tm9dvFtiBk2VmNRiUoWTWwOzYCRkYJaCkhXAofVFqTNa0YFKENmbtclbVIieyTD4k5AiYAVAzpI6QfBebriVEITZA8MUmcAN85AsdVqOt4cWzW0+OB9uA1INBRDFGMEDirFkcqaowI0CvrmaaQQnQzEQ1E6FqNotZ1SznpJoalaVQjX2+BWZ9gpQS9+kSnNSA+tAIwDJiMotxiQAbA3/poUcu33/eO9YUvVBZuNh1u/vt8dFxthyCU9AYY2dwZ+dOTsksEdFksvHOx+7f3hgu5kcv/cm34uzoBx++/GdXuy6hMUkocqRMuWR0LBuTMz/6oz+yXC5v37515+aNV2/cKAmd88NQiEIDraEhGhI5cQZcMocCM1AyVySpBkXXtDm3OXcxphQ5R8q2BFIiMoMMmA06nUdrjMSQWEgCh5JRBMgRqeO6DBPGwkCYTopiAGQGZkAGrnc7OTNSHwBDX7+x3McCknMKweUc1UzN1EjEIQqiEWUDQmWA3AfXMUXs+fVUACJy8t86N53PHrn0wEc+8L7J0ENeHC1u7Ny+vZw3N6/dLEPZtt1sbm3bnj93ZrY7f/DB+8Whc/Keh59YLJdMlFUP9vfh4MU//LdfFilv3boznTVve8c73vbw47NFOjpuXHA0rMcbG85ibJv3PPUDHOfPfe1Ln//851y9dfktDwMrC3l2uctkOWlMKeUcmdEJCy+YxaDLTWMmwk5qypmz8mLRIQKRYWZAJepjPQUE0saXkUBEfFmGqg5UBEAGFO/L4EeMQyREPAGEiBDRe79SUDNTVYIT/HPOfVGwD4VFNbetGkQDY/FBCgBhEoNsGBEcswC6E9/Lwsx9NRFPTaEP6TDH9z315Ed+6D1D0W999U+HhVehOEvHe1Po6LnnX2iX7daFM8IQl3sXz0yo3dvcmhBoOrpRe3e4f3R8fLy7u/PNw4Os5En2l6S8+cxLB/fPv/C2t7/1L7390fm8EVdubp27uXtgsHH7lee+cWf36X/372/dufXCtYO/8Tf+2tvffjmm1nnfIaMhRTNNCFk1gQkRE0XS1HWzpjWiEgkAlVhZrGmanInIAaBBIoFQhJSUMVArdbm1vXWhqmpmOPHmxE6qupoM6s262mSS02pEX+Slk7pvL0wzNFDV3EfKa0PMNGc4EY8ysiN0OWUpjNgQkIyRwABQTXPqBQen9eTejh5++OEffN87Hn34YnN04+j4KEh++g8/e+sgve3tb0sdeF8+dOmh69evLdvloA5MitBdfuB+J0hcpJRjjN7R4f6Oacror97ZydDuHDbn7zuzu2yqqf7BH3z2B+5ce+DCBUcu7d08blKox+yrf/1v/vA7r9wy9vOmq8uCtIM07zQm8AAdU/LOYsyQI4EyeTBNsQXNudOorbERG7PlrKZGRKpKrCJU1c57z+RbHosMNjfu3968ryoHgJqyIQmTc1J4X3gXAAX6BPwUmfVxUrhQe90b5KQi2wvJSBVjym03B/RwUgSzbLmHmxSMqFd/RFQz59wPvv/973zH2wd0fHzr5d2dl9v58eHOQSiqZEd/9o2vP/H4FWara3pkfN/VW0e7e3uL+cF4eKlpF6+8fH3Rkg9hY2PjeDqTspoeHOamHZUOhC9ffmz3aHZwdPTFF+J46NJ3Xvn8V75+38Z9b3v0LQ8+cO6V6y996ZmXv/S1ZxZcdaClC7du3ZjUsR76xbIxP3DUIWpw7ERiUuecMKmm2HWQIXXadR04QDZmUDUwEvEA4LyEMlQVs3BdD93gXD04M6zOlcWkLAaIljMhOmbHxGop57hCs1f/daBPKq99SUn1dQQAwH2Qn3JGYDOKcQ4AOUvsACASKqPLajlnZu5yVgRg8sgG+fKlh5567zu+9Wdf4uXt2fHBA/dfSI3t3tnzQa5cOb+/f3jj+q0zW5OD/WPvcLaAshq005uL+fRw2ixieP6lV85f3FYHOwf7LHWW0bCmnHOEPD8+DCiLw6mATvdsw4/ns248wWdvvvitq9+9dOWxzfsvsJdm0STIF86MXn3pxZvf/eoP/0fvC5uTeZqbADMImlnnXBZnmdx8kaaNpY4MwagBrAAgaQJQYGPfQWGu5KIqvB/U1Znx6HxdPFiWw6KoiqJi4lNMwQzMcl9PhFONRMJ+oQAQ+3UlNDA1ywr3QN/TlLzmE9T0JGxABmESIgGAfpGFCZkEEfuKjwKopvGg+PAP/YU7r3z7G3/67y+cHVdlcf3arfl86kMpIreu3bh2/YbngIDN4jDm5RLG25NitDG4cPF8Un3muZcuPfBgtnbv4KiqR7fuHF57defi2XOuHArjdNkdHC+cLzgtFk23c2fv4sWzB8ezZQcH+7OvfOvm5Pz5elhWm4Oj6WI0qnzwaP7LX/7auz/wfqzKlJIZoikyAkAXY5PTYpmXbc7JFAwFwEV2IGIAmjOEQGE4LquiqqoijOry7LA6OyjPOhe8dytaRzwpFyECAr62JIhoZoq68rEr0O9S/NcWEYmkX40Tsd4/rCTTZ16IAIY5ZWFxTlSNiKjPZS1+8L3vHHP7R3/yR04XMY+mi2YyHvmyeun552/durUw3j+cki0z8JVL5+bL48OD/OqNmx/6wcc2z2zNl92Dl+8/2j9aNPOirmJ2V6/dWjRtm/X67T1j7Ax295rheDMvreu62fxgtqwffPC+Ozu3dva7wWjy3HNXq7pYxGZz7Lt2VlT3GQF7ev6Fq4++4205dqaQDTRpTLFLbZstRuw60GxERoLlSENFRclgkpMLflRVl8pyUFWDqhoXflSEoZcSke5l9h6iFWI9oD2GtuYm7x29W+6LOj0FARGllFS1LzZ0MRMhM+ec+9oDkYGBOEbElPJkMi6L8OgDZx++b+s7X//S9GC3adrdl6+GEJ759nNds5hPj1PsZkbsiuODmQvzadPd3jm4edCV3nYPZ9fv7M1m8bmXbj3x6OV4a+fFF29Ug0FWSllfvXY9FMXOwZ6vBmVdLpv2gTPbwjZdNLd29mdtilEjVJ25S5evAOb5YhZK//wLr3z3ueeHVbW5Obn54vUO+LGHL+RkAG7RxjbHmHIGXC67nIkQibUqHflYjUNVS04Iua6KM4PiYlmOymJYlUMRz+yE3Ql/n9bBehXuq5M91qtYc6XgOed1xkc8qQD2VvI9PiCEQERt2/YpnA9+PK7mi3lKqS8YgIFiNlUiICLVFIJ75KH7H7m4tTjaPdzfv7k/vXUw2z86mh4fPnj/xenxtApSlHV7PO+aRRdzMRgdTpezZbt70BbOXnpl987t48uXL+/sHV27cfPcmfuef/HmtWs7EmQ4HlITg8Nh5atRVXb08is7R64FyyGwEty4vb+3v/SlL+azR8pLsZ0jWJ63jOCLIoLbOVgcHOwVVf3I/Weargm56rJ2GbtMy9g2y4jAzEiaJUFBBAhZE1IhPCqLc1U1KYtxEUbCQZhYTtau16FfHyt9XzV2rEvi/82QoihUtW3b4XDonBvUg+GoBIS2bZm57+DQZIrQ13JzRiYcFv5w9/bV737z+Rdf/sp3r6Ziwxkg+9mym86WKUkGaNqE7DjIzds7cG5S1mOSac7N7TvTUV3euv11duH2nZ2N8dnReCupK4ceMGOebdRDwhiq0C7nHjXHLqZusDE6unM8X3YkhbIly+L9qK5mB4fXXn2lHPmqro+O49HRIQEIu8lo8tIrLya1LNJl6LJ10bKhd44YiI2EiIMatl0SJicDJ5tVNSjDoCxGZsic2eWc7ibu02QLV0DnnPuFM0R6c/55HQF0il3bsdBg6DcnI2bwQYuChJ0ZgmYDQAHsVFSdkFRcDqnrGkoLT7pZu3c+9tCLN4/m07g5HrfLZVUFERQnGNP29qYCLpv26s1dNRyUFahTrmYRIFnp8OX9Y7t6a+ClEDu3MWra5SJOymo8GpSG1Db4Sj7osvpyQFgXDsTixuZkv2mY4ubYN4vpnenuFGkbqFnMj6eLNufC8Wy+RNYHLt33wiuvclFkzTkrplgKOa/kgITKOjivqJXQuYE/P6jOD+phcHVZVsymmgEBjMzyyTomcl/oQdQTkBEADFDNFNAAVV9rtLDTlfr+noykCIqgYIaqRApoZiaLZomWiZUY6kGRugYgDwaFZui61LYxdRHZ6qI4M5mUVVC2elh5785unQ+6ODo6Pr7x6ng4GNYlAIRQxNRtbY0Xyzkh7+3tIzO7sGhSUVaLxcw0loWbzrvCiTWNBffMd7795Fse9Y7RrCzLtrP5cnnp/q0XX3758KiJqRE/FBecK0xnwRFjHAqVnrrjPYSYu3ld+tTFm9dvRvTVYDyoQk527dqdp37wL97aOZ61y2SYM1gOSAJGTsRXEorC+WUR6jKcG5QXhtV2VY6dC0Tcd+8AoFkfkeBJ0wwCEZ42bVgfDp20VAH0hLRS7f7+9c+rK0iAhqh9XRlTXYeyDKo6PZ6lmJfLBTOFwoUiDIf1eGMUvB8Ois1JPR6Vg7rIKXbLhQ/F7tH8qMmH8w7EH86WO/sHTUqLtl208cbt/Yw0a9qouOjydLG8s3cwHI+AqO1i13VFVSqgl2IynhwdH7Pz6FyTcwg0mgzvHB0uckqQqto78ePRBqACJsV2Ot8ZyfLy+dGlC1tnx/XD57e2C7KY0ECQFrN54cPlSw9tbT347LNXq/pMyiFGjBHNWIEVEIhCUSBRjggQHNdCNdNAaOR9QYR9G1aPXd8qsIpzVqnW+lgjJlp97v9k9e/qyuriCQXVA1+VHs3AtGnbRIicijIgsmksywGzzGdYlY6p09zGZIsu15Mzu3v733nx2myZ3GBya2cfgPYOZ6FpAWwZdxfL1swxF+zLw8OjBJyzHh5PTXFn/3A8rNsuMtHseLk1GrZtlM1ymXICrIrQ5LxzOJu22iQdjkcpKzOL6dF094EHty89dOnSZHzh/JlQOe/9bNp89ctf3ztup1FffPX2Yjq7dvWlQaDzZ7e/9NUv397bee/738Ne0GHSuZSuqIMv1RVa1h5hU2hTaCQ0YKwQnJn1idE66HAaaMJarvu6o1807J/QA73uD1a9dSt3bWZSVoKkqe3KYhh8QDNfCRG03dIAmIEICucKz87lEJw3V6sf1dUXv/jlq7f3Mrpb+8ez+XI03vDlIObOzBbTpQ9hPm3r2jfZMkqXs/PF0fH88cce+fKXvtrnKHVVVFXY3NwcFmWMbaemTEQ+Kiesp22TLXSLtgxhd3dvsjV++OEH3v+BpzY2x2PHuwf7dw4OQ6geu/LYR8+eOzqevnpz58n3Pnnz1s6tm9fYmi988T8cTo/e9q63DCcOPbATIGARdsH7qqxGdT0eFmdKv1EWW2WYFEUZCscM6/q7ihrXcb/r85uL5K6x7qJP8oCUW0+emZiJmdGMWftnEiMxEmHwIXgIHsqCPBYso+e+8+2XXn75eNEeLaa+HEyK4WK5rIbj2fxYNanmLqnzxbKJIEENYzYvvplND4+OL1w4f7i/P5lM2i4RQFUOcoqz+XyhrRKAH0o1ePXGPkkInisZLuZHMcXNrY23P/loNXCz+f5h18za2JJM227x3W9X5PLiEACJ/KVLZx6+fIYsHxwvEmSTJKH1tYSKCbe8H3i/MRyeq+rtejAZFbWTyknpfWDpU2KC761lrkKd9TB/9cFOvUSv13+u+OdEAB7ZASXTtukYnamaAyAWKRiJAZiiHxmXEgkFRMhrsm8+f+P5qztRgb03hNt3bm2MxzG1fSo4Go66mJaNhiLEFC3HQeBRyY3VQry5NQHL2bQclFt1mB4dNDEeTWc3d/buu//+PePdmzeWXd7YKFDcbLk8nLeDYUFlJYNiofMETczaxqSmAHQ4mx+ktFFk8cEQo0KigOTzUMuqqAd1PazKqiirOvCDZTEsy0FR1EUxKMuKsNd3ZmYEWzVYvgler0sp8AZ10HufcC+PSRBHxNmUEHPORJSyWhODOESFkEfDmn02Sxk5ZhwOBns708N5y75q26ZdLtk7QJzOZ/1kRqNhzvlg/yhU47Kq9nZ3GKEqC0doPsym0+GgfPih+w8OdgeBHcHR4X4b9Xi+ALXZ8XzZwPVbO2fPnFkum6aNx8fHjGHvcHHzzuFga9hZA5TQIngVMCJyhYC5OtTE3riQcuzLcSiHoR6XVVmVVQghhOB9IBgwO+cEEUTEiaxi+76+BnB3mrr+9d4k9nUl8X1lsC5LMxN2hAAkQIQpdUVRqFq7bGVQqCVYNMORbxcRIG1ulF5C7PLVq9dns8WybRfLhpxMj6az+fzsmbN37twpiuLOzl6MMYSirmswa5qlINZVmVLyzoHl2MwDDSTNJdrucVws2qKsBHlzPJhOD467qffheDbf29vf3toEwKZN2WzRsAvbxwcpWVeNZTQeCnsRL+KEw4C3q2pcDsa+GHGonCu9DES8c66vGRARUkQ0AFytKa0rZg/KqiD2/89YrQkTIhBbTmamy3mn2awGJiJMR0d7SZUJN8ebg8HoaH+5u3tw685u07WHx8fjyaSLGVkOjqZFVReh6LrOkGPKMcZBXTFLTh0RzWfT+86fJbPZ8V6OnTB3XeuqjceuXDx37uzF++5bNss//uM/bg/ifNksjo6d8xmw6yIAuVC1iR668s6H/buIkQqrqir4kkiIhckFrpgcsXehQnSGXDgkAgQ0WHVuyypOX1fYddBX5LAunpMlrbWf1pnnTRZhVhW39XtWbe4xRjOTrmtCCMyY0kkT/HS59C7EGEMlLNg082WTsubCB4dF12HbdIY4nS9InDi3aFskCoXLKR1OpzEmMxsM6rIqc84iMhjWzXKpmjFHERoOhx2IH5996PJDm+cuBR9Mc7mxbfPpePPsC7dfjimHUG5tbQLifLHPAvO22b5w4dG3vrOsK2QCJGFh9tZ3ZyCxZEIEYFVA6Lv0ZgAK66Rubv3bG0X0dwng+8L9urJZVYf6wlxKqSe6vkjXfzihoKOjg8FwKOxVoVk2BkRcMMl8vkidDocgThGpbRZHR8fntvNymWJMoSirerhsljt7+13Mk81x17Wz2Wxzc7PtjlNK22fOCdL0+FhVNzYmx4cHRXABc9s0Fx586KHHnrjw4KXx1hnisvBuMhpsT0b/1+/97vWdfSBJqUmpa2/evnjfRSQ21mpQXnnLI1vnziEysUBu+/ZOoJMkVU3VgNDIgBAJKAKd7sR5Dd57Ef++Yx1T+H7O1l5v9Iib2en+jpN4qc8SpJ0D5taH7FyhUbpWR5Pa+7BYTg1gwMNQ+y43iyaHuR0exdQYkM9qy+Ui5rRcLMuytJhSEx25+dEMs21PtsXo6ssvmOXtzc0HH7jorzzkvL946TIgX3nkLRcfeHA0mRRlXRRB1YITjE23aIKqYxaR2HXLrrt2/VpZFqWE81tn3/XYE6yQyKKpAwTom1IRUQEMDBDRwAAtA6gpAN+Lz5sA90Zf1w3lzZ3w+lL7CuV7jWaVoPXXhdgvlo24OsakGXKG5aIRISYgpqy2WMamjcje+YG4+sUXXvjGt56dtV1Z1y6lvn84p8RIXdehyKAaDMr65ZdeWixm3vvpYvm2d777qaeeqgeDYnIOkDbGYzMTEefEQBGZiRYHHRnMj48WC22atqqqxWLBRDllUMNsv/N/fPrChYsXHnm4y8lBvy/nNVBfWzN5rSLz5wjJ72X8uwSwfmWFLKyp/Drur0v9cOrt7TSzOxFAhgyCCXOKUU2MBS21iymxJeLpwVHMnXJV1ePNs+eamF569dWoWQG6GMGMRWKMSNQ0S+fceDzuuu769evEHIabZnbcaDnefvdTH2jaVhF7pFbJi1k2BDATX3zwIx978bnvPvuFr9SD4WKx8N5771OK7Hm+mH3uc//BV9Wv/v2/F4YD/HNg+/9xvJEPWAG9fgVOO01W979JenyXwMhYJBTztp0um+P5ctF1GWzetMsuGnly9XB09sHLj7/9XX/x4qWHv/38C9du3VrGLoMpQpuTMSbQZBpCmEwmTdNMp1MzrauKfIG+IF+Mts60Cih+FfKtJtNvMUNi8eE9T33g8qNPIJKIEJFzLqWUUgLQtls2y/mffv7zv/GP/9HhnTuA8H3Tzjepnd071qtjd40Vq9y1yHUvlHeZ0V3ye12vYGbSmSCyEfpSuCoGg8l958+PhvWZs9vjjdFkMp5MJuV4HJy/ce3aMurhbAZmzhdJs4LNl0smEufe/e4nEeCb3/xm13V2GoExYtO233n22Z/8iZ/ot1n12tH/SoQEpgba79cqw8bZ8z1F1nVNRF0XR6NRNaxmh8d1XVqKX/vil379137tl/+rT73rXU/O53N44+rYm4vnjcY6TCsB3Mvj9wJ970zu9Sv3Cs/M5PHHnxyN6yK4za0z3g3Go+3NM5viaDgcFkVAwr73XESUbt+8s7PoWjSIdrLyCYBt7H7lP//l//Sv/vWnn/53zzzzTAghpZRzDgWbGQi8+N1nusUUzIxkbZYnvWAAauDUtE1Krkg5M/Pe3l7OmYmKwu/s7kBKG/WQgEn4mW988+/+nb/7c7/4i3/tp3+67yh4IyhfF5c3wX3dbd6rwn+u5/SyefO1yRMBfPzjnyiK0O8GZXbOBXGCiP0eiv427xBS3rt6c+/6bc9ezRxw13dtm330Rz721//m32zn7YuvvDwcDgmxaZp22ZRlaajR7OBgfzqfbmxsnHa3IxIiqAGYiQECxD6Yqctw//mzTdPlFBXgyiOPTjY3v/zFzwkiDrkqQuVkWMitV1797//+f+ty/qn/+Ge6nGJOZP1mr9fqaPcKYF2p771i31v1vBfue/2znfZn3iu5e0UI3+tOEPGkH+Xs2bOr6iuf7FI0QiQwSxERmUi7qG339O9/dv/2bkLNTJbboipF9B3vetff/lt/uyzrNsFbn3jrv/n93182Tb8rr21aZGSWw+Pj/cPDjc1NywlPAnfqoxQzMTSAzGzCurd3pwp+MZsH76SoPvnzP//Q5Yf/6LNvvXP75o3r15779rPj2DnmgmQxPfr0b/3vH/roR8KgQkIy6gVwr0Hci/u9ArhLWvfq+/qd90r0jUZ/w3qAlFJaybuXnKyL7tRrIZhBfzIEIhEWhfvW177+J1/4AjNlA++dKCyXy4cevvIrn/rUlStX2rZxwT/y6KMXLt63t7vLxOIJidRMGMGga9s3L7PknJcxPf/cc23XZdO26/7SRz76kz/1k9PZ4i1XfnlQlV27/Of/7J995rc/fRznVTGuhoOr167+3//qX33yF39+sVionbztygLuNf83IYR79X1dSHdR0BsF+Hf9+eq2Pv/q3Xg6OefAVh1EFGPsui7GqPeM9aLdZ//gs4vFHADKqswpt007GAz+4a/92qOPPYaIKeWY09aZ7R/+0IdGkw0fggEgYte2y+ViPRr5HlM1ONmwCNC3wDRNO1sskmpRVx//xI/7oqhHw9HmFvpQjzc+9au/+g9//dfLwWj/+CimFIrydz/zO3/6+T9xLOsp/uqF7xrrcN8VIN07vbvusTUPgWvjLnn0Y6Xv93YHrecH/axeW7cEADs5+yL3XjTGGGPsuphS2trcBMCUU9/CxcI//okff+sTT8Su61slU85A+APvec/jT7w1aur3jBoYsxwdHzVNs37exQlAp/2qpmpmR8dHr159tW8ceOytb33v+55qY2uEnVoG7LJFg4/+2I/9vX/wDz728b88mox39nbn8/n/+j//L1/78ldtrV3+jXQT7xmrn1bAvXl0u6Ly9X/vSsHu/XqX2Hp4VwpBK4mllFLsI+8e59Rv2FDTruve+Y53DgdDVVsulyz8E3/lr/zsz/5s7Do1VVNTJWEgeuDSgx/44AfPnj+XcupXF0IIy+Xy5s2bgLiSwWt6uqZZVVVdfuihxWKxf3g43tzYmGwkNTU1REUyYvYhqf3Ij338n/5P/+N/+SufYqI7t29/99lv/5P/7h/99qc/3TRN/4b0BuMufli3iTfC8XVZa4VYvmes3uUu/ulHr9Z4uuDcX6S+58LMiPplaAJCIELC03IWmurGxqgeBicAkB9/7PH/5JM/Vw83DAVRNIMpWV+BIfzQhz/8cz//C74IKSfNSoBs+MzXvlGQlD6gGWRlQMG+4TEDKpilmNmHBx55CxUVij88mgGQIPW79zR1KXVt23YxzRfLpos/+vGP/+Pf+I2f+pmfOZzPb+zu/MvPfOY3f/M3r1+/3neSvS6rvJFew2nrQ79OsG4fK+pfN5cV160kdBf/6OsFRasm6Bhj27Zd1/W3Sc/1qkC0MhMgIgW2GE+eLnT27JlLD16cTQ+ODxY565nzF5AZkFQ1Z0OCtuuYSAiHo+H7f+j9V65cefZr3zSz5WLhnPze7/zume3tH/7oh+u6nkwmPVWLSNTcn+qTUiqKYjCZLJtYD4YvPPfC05/9w4v3XTx77uxoc9K7LCICIGBQMyL+yx//+I994hMf/tjHvvCFL3zgAx/Y2trqVcy+N/ZYtdC+EaW8rpBWyKaUlsvlcrnc3t6+i2TW5bdOrattMCuLV9W+07BfA0gptW17so3p//y9f90/ojdSInLu5OSM1eQK70qHv/eZT//Wb/3Wrb3Dot549LFHn3zXuz/5yU9WVdV3kZJHIhRiAiSAf/nbv/0//Po/KULRbyLrug6Jzlw4NxwOP/jBD/7SL/1SWZYppQQnQXF/DtTTTz/9X/yt/+zifRcAMKVU1/VHP/bR//q/+Tv6vQCtlDSlVJaliPQK1f9HJ2VeOQnw1uOiu+zgrq8rCuoVf4Vdj1pRFKsYZl21bS3O6Ymlp/iVNvQCa9tWRPoll3V+k8Visb4JO+fctu1JhwRi/+gjgELwXe/+gT/4t0935nYPp9/4+jcPD44+/OEPb21t9Vzf5IYQGFGTOuYnn3zy537hFz73+c85cV3X9fqeNE9nsxs3brz00kubm5s553zaQt+b5/b29l/96Z/e290FxK5tiejs9pnbt293MSJijLHfXy8i/cROziBQ7dtY+yJSD02P2jq+Kxd9VyC/yol6KPsXX5UL+xv6eMTstSb+dbpf6VD/pqvb8HQRpuu6lVWFEHoh9XaP/+J/+7T3frFYFEWxIj7nhIhEpBejC6V2y0A6nU3bjORKMt3Y2CjLEqBv4gPl3MdSZIAGwXtZ7XwAAARC8t73QNhpGoLueygbERlOdgA6caoZEaOd9IWvNN1737+Mc67/aV0l1zkE1jIDfINUFk/7+gGg67redFTVOde27QqTvkXlLorT0zasPnhZWc9qCazv8l8x/ir87+11NptJ73+qquopKecs8trJECICgCi+HNak3XC8Aa5ECdq1QsgiK+DQQX/cCBqggWOOqv2BfCud6t09MxNzipFFMr4WFJ/A5KQ/Py6ZOVeoqkunexlOoelrpSd77U8pGL533CuJlQBWP92VGyJib2G9Hcxms15j7HvHSvd7xPvn9xa57m9OPUUGMBGXT8PCddNxzokw55TMTPuGOjAwSDH1mtufPqCpSeiol1xeIHdeOGWLuesPJmBii8ZEQNTvoc8ALJxyAkBQRYSYEyGaGqt6hKhqqkDYz3u1wVMBctYihJSSZjUzJ9Jj1x+zsg7fSut7Revf8K64BU/rYit0bC0yWW2yWBnE6vm99vRf19l8PWC10/AGEb33p/msIRKiAeSUuqxZNZvS+jTMDA0YUWLXee9TjHQanzJR27bWH7WEymYslpOCyCk1xpM01kwNyMgAsD88re+aR0Mw0JM3IaZe6ApATECoAECYwVBthdoJ4RoULGSAaojAry3d2KpPbT2oX0EJp+R2FxetBLAikz4a6Y/OXB0Bs67gq8fq6eLtuqavflo3nfUrqkrEfS7ca5RqlxObnVJZPx9VRvp/AFJRbz3dIdw4AAAAAElFTkSuQmCC\n",
                  "text/plain": "<PIL.Image.Image image mode=RGB size=128x56>"
                },
                "metadata": {},
                "output_type": "display_data"
              }
            ]
          }
        },
        "e77b1ad969e047c0bfe936b597819a04": {
          "model_module": "@jupyter-widgets/controls",
          "model_module_version": "1.5.0",
          "model_name": "ButtonStyleModel",
          "state": {
            "_model_module": "@jupyter-widgets/controls",
            "_model_module_version": "1.5.0",
            "_model_name": "ButtonStyleModel",
            "_view_count": null,
            "_view_module": "@jupyter-widgets/base",
            "_view_module_version": "1.2.0",
            "_view_name": "StyleView",
            "button_color": null,
            "font_weight": ""
          }
        },
        "e7812882330c42c9b970a04de6585811": {
          "model_module": "@jupyter-widgets/base",
          "model_module_version": "1.2.0",
          "model_name": "LayoutModel",
          "state": {
            "_model_module": "@jupyter-widgets/base",
            "_model_module_version": "1.2.0",
            "_model_name": "LayoutModel",
            "_view_count": null,
            "_view_module": "@jupyter-widgets/base",
            "_view_module_version": "1.2.0",
            "_view_name": "LayoutView",
            "align_content": null,
            "align_items": null,
            "align_self": null,
            "border": null,
            "bottom": null,
            "display": null,
            "flex": null,
            "flex_flow": null,
            "grid_area": null,
            "grid_auto_columns": null,
            "grid_auto_flow": null,
            "grid_auto_rows": null,
            "grid_column": null,
            "grid_gap": null,
            "grid_row": null,
            "grid_template_areas": null,
            "grid_template_columns": null,
            "grid_template_rows": null,
            "height": null,
            "justify_content": null,
            "justify_items": null,
            "left": null,
            "margin": null,
            "max_height": null,
            "max_width": null,
            "min_height": null,
            "min_width": null,
            "object_fit": null,
            "object_position": null,
            "order": null,
            "overflow": null,
            "overflow_x": null,
            "overflow_y": null,
            "padding": null,
            "right": null,
            "top": null,
            "visibility": null,
            "width": null
          }
        },
        "eac08f6283934be28ef50326dafb4515": {
          "model_module": "@jupyter-widgets/controls",
          "model_module_version": "1.5.0",
          "model_name": "DescriptionStyleModel",
          "state": {
            "_model_module": "@jupyter-widgets/controls",
            "_model_module_version": "1.5.0",
            "_model_name": "DescriptionStyleModel",
            "_view_count": null,
            "_view_module": "@jupyter-widgets/base",
            "_view_module_version": "1.2.0",
            "_view_name": "StyleView",
            "description_width": ""
          }
        }
      }
    }
  },
  "nbformat": 4,
  "nbformat_minor": 0
}
