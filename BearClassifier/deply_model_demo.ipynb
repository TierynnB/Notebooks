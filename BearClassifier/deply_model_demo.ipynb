{
  "cells": [
    {
      "cell_type": "markdown",
      "metadata": {
        "id": "view-in-github",
        "colab_type": "text"
      },
      "source": [
        "<a href=\"https://colab.research.google.com/github/TierynnB/Notebooks/blob/main/deply_model_demo.ipynb\" target=\"_parent\"><img src=\"https://colab.research.google.com/assets/colab-badge.svg\" alt=\"Open In Colab\"/></a>"
      ]
    },
    {
      "cell_type": "code",
      "execution_count": null,
      "metadata": {
        "colab": {
          "base_uri": "https://localhost:8080/"
        },
        "id": "X2USP5eeK9uY",
        "outputId": "30c7c1aa-50b4-468f-9bc5-6af5af73e786"
      },
      "outputs": [
        {
          "output_type": "stream",
          "name": "stdout",
          "text": [
            "\u001b[2K     \u001b[90m━━━━━━━━━━━━━━━━━━━━━━━━━━━━━━━━━━━━━━\u001b[0m \u001b[32m719.8/719.8 KB\u001b[0m \u001b[31m24.8 MB/s\u001b[0m eta \u001b[36m0:00:00\u001b[0m\n",
            "\u001b[2K     \u001b[90m━━━━━━━━━━━━━━━━━━━━━━━━━━━━━━━━━━━━━━\u001b[0m \u001b[32m452.9/452.9 KB\u001b[0m \u001b[31m28.4 MB/s\u001b[0m eta \u001b[36m0:00:00\u001b[0m\n",
            "\u001b[2K     \u001b[90m━━━━━━━━━━━━━━━━━━━━━━━━━━━━━━━━━━━━━━━━\u001b[0m \u001b[32m5.8/5.8 MB\u001b[0m \u001b[31m72.7 MB/s\u001b[0m eta \u001b[36m0:00:00\u001b[0m\n",
            "\u001b[2K     \u001b[90m━━━━━━━━━━━━━━━━━━━━━━━━━━━━━━━━━━━━━━━━\u001b[0m \u001b[32m1.3/1.3 MB\u001b[0m \u001b[31m32.4 MB/s\u001b[0m eta \u001b[36m0:00:00\u001b[0m\n",
            "\u001b[2K     \u001b[90m━━━━━━━━━━━━━━━━━━━━━━━━━━━━━━━━━━━━━━\u001b[0m \u001b[32m182.4/182.4 KB\u001b[0m \u001b[31m11.1 MB/s\u001b[0m eta \u001b[36m0:00:00\u001b[0m\n",
            "\u001b[2K     \u001b[90m━━━━━━━━━━━━━━━━━━━━━━━━━━━━━━━━━━━━━━━\u001b[0m \u001b[32m213.0/213.0 KB\u001b[0m \u001b[31m8.3 MB/s\u001b[0m eta \u001b[36m0:00:00\u001b[0m\n",
            "\u001b[2K     \u001b[90m━━━━━━━━━━━━━━━━━━━━━━━━━━━━━━━━━━━━━━━\u001b[0m \u001b[32m132.0/132.0 KB\u001b[0m \u001b[31m5.7 MB/s\u001b[0m eta \u001b[36m0:00:00\u001b[0m\n",
            "\u001b[2K     \u001b[90m━━━━━━━━━━━━━━━━━━━━━━━━━━━━━━━━━━━━━━━━\u001b[0m \u001b[32m7.6/7.6 MB\u001b[0m \u001b[31m18.7 MB/s\u001b[0m eta \u001b[36m0:00:00\u001b[0m\n",
            "\u001b[2K     \u001b[90m━━━━━━━━━━━━━━━━━━━━━━━━━━━━━━━━━━━━━━━━\u001b[0m \u001b[32m1.6/1.6 MB\u001b[0m \u001b[31m28.4 MB/s\u001b[0m eta \u001b[36m0:00:00\u001b[0m\n",
            "\u001b[2K     \u001b[90m━━━━━━━━━━━━━━━━━━━━━━━━━━━━━━━━━━━━━━━\u001b[0m \u001b[32m140.6/140.6 KB\u001b[0m \u001b[31m8.0 MB/s\u001b[0m eta \u001b[36m0:00:00\u001b[0m\n",
            "\u001b[?25hMounted at /content/gdrive\n"
          ]
        }
      ],
      "source": [
        "   #hide\n",
        "! [ -e /content ] && pip install -Uqq fastbook\n",
        "import fastbook\n",
        "fastbook.setup_book()"
      ]
    },
    {
      "cell_type": "code",
      "execution_count": null,
      "metadata": {
        "id": "pCVJNzfGKpN9"
      },
      "outputs": [],
      "source": [
        "#hide\n",
        "from fastbook import *\n",
        "from fastai.vision.widgets import *"
      ]
    },
    {
      "cell_type": "code",
      "execution_count": null,
      "metadata": {
        "id": "jkmRCrCEH-hJ",
        "colab": {
          "base_uri": "https://localhost:8080/"
        },
        "outputId": "d047631a-d2b5-4bb4-df7c-6239252c3717"
      },
      "outputs": [
        {
          "output_type": "stream",
          "name": "stdout",
          "text": [
            "Looking in indexes: https://pypi.org/simple, https://us-python.pkg.dev/colab-wheels/public/simple/\n",
            "Collecting voila\n",
            "  Downloading voila-0.4.0-py3-none-any.whl (5.5 MB)\n",
            "\u001b[2K     \u001b[90m━━━━━━━━━━━━━━━━━━━━━━━━━━━━━━━━━━━━━━━━\u001b[0m \u001b[32m5.5/5.5 MB\u001b[0m \u001b[31m61.7 MB/s\u001b[0m eta \u001b[36m0:00:00\u001b[0m\n",
            "\u001b[?25hRequirement already satisfied: jupyter-client<=7.4.1,>=6.1.3 in /usr/local/lib/python3.8/dist-packages (from voila) (6.1.12)\n",
            "Collecting nbconvert<8,>=6.4.5\n",
            "  Downloading nbconvert-7.2.8-py3-none-any.whl (274 kB)\n",
            "\u001b[2K     \u001b[90m━━━━━━━━━━━━━━━━━━━━━━━━━━━━━━━━━━━━━━\u001b[0m \u001b[32m274.8/274.8 KB\u001b[0m \u001b[31m29.8 MB/s\u001b[0m eta \u001b[36m0:00:00\u001b[0m\n",
            "\u001b[?25hCollecting jupyterlab-server<3,>=2.3.0\n",
            "  Downloading jupyterlab_server-2.19.0-py3-none-any.whl (56 kB)\n",
            "\u001b[2K     \u001b[90m━━━━━━━━━━━━━━━━━━━━━━━━━━━━━━━━━━━━━━━━\u001b[0m \u001b[32m56.4/56.4 KB\u001b[0m \u001b[31m7.8 MB/s\u001b[0m eta \u001b[36m0:00:00\u001b[0m\n",
            "\u001b[?25hCollecting jupyter-server<2.0.0,>=1.18\n",
            "  Downloading jupyter_server-1.23.5-py3-none-any.whl (346 kB)\n",
            "\u001b[2K     \u001b[90m━━━━━━━━━━━━━━━━━━━━━━━━━━━━━━━━━━━━━━\u001b[0m \u001b[32m347.0/347.0 KB\u001b[0m \u001b[31m34.3 MB/s\u001b[0m eta \u001b[36m0:00:00\u001b[0m\n",
            "\u001b[?25hCollecting websockets>=9.0\n",
            "  Downloading websockets-10.4-cp38-cp38-manylinux_2_5_x86_64.manylinux1_x86_64.manylinux_2_17_x86_64.manylinux2014_x86_64.whl (106 kB)\n",
            "\u001b[2K     \u001b[90m━━━━━━━━━━━━━━━━━━━━━━━━━━━━━━━━━━━━━━\u001b[0m \u001b[32m107.0/107.0 KB\u001b[0m \u001b[31m12.6 MB/s\u001b[0m eta \u001b[36m0:00:00\u001b[0m\n",
            "\u001b[?25hRequirement already satisfied: traitlets<6,>=5.0.3 in /usr/local/lib/python3.8/dist-packages (from voila) (5.7.1)\n",
            "Requirement already satisfied: jupyter-core>=4.11.0 in /usr/local/lib/python3.8/dist-packages (from voila) (5.1.2)\n",
            "Collecting nbclient<0.8,>=0.4.0\n",
            "  Downloading nbclient-0.7.2-py3-none-any.whl (71 kB)\n",
            "\u001b[2K     \u001b[90m━━━━━━━━━━━━━━━━━━━━━━━━━━━━━━━━━━━━━━━━\u001b[0m \u001b[32m72.0/72.0 KB\u001b[0m \u001b[31m5.4 MB/s\u001b[0m eta \u001b[36m0:00:00\u001b[0m\n",
            "\u001b[?25hRequirement already satisfied: python-dateutil>=2.1 in /usr/local/lib/python3.8/dist-packages (from jupyter-client<=7.4.1,>=6.1.3->voila) (2.8.2)\n",
            "Requirement already satisfied: tornado>=4.1 in /usr/local/lib/python3.8/dist-packages (from jupyter-client<=7.4.1,>=6.1.3->voila) (6.0.4)\n",
            "Requirement already satisfied: pyzmq>=13 in /usr/local/lib/python3.8/dist-packages (from jupyter-client<=7.4.1,>=6.1.3->voila) (23.2.1)\n",
            "Requirement already satisfied: platformdirs>=2.5 in /usr/local/lib/python3.8/dist-packages (from jupyter-core>=4.11.0->voila) (2.6.2)\n",
            "Requirement already satisfied: Send2Trash in /usr/local/lib/python3.8/dist-packages (from jupyter-server<2.0.0,>=1.18->voila) (1.8.0)\n",
            "Collecting anyio<4,>=3.1.0\n",
            "  Downloading anyio-3.6.2-py3-none-any.whl (80 kB)\n",
            "\u001b[2K     \u001b[90m━━━━━━━━━━━━━━━━━━━━━━━━━━━━━━━━━━━━━━━━\u001b[0m \u001b[32m80.6/80.6 KB\u001b[0m \u001b[31m10.0 MB/s\u001b[0m eta \u001b[36m0:00:00\u001b[0m\n",
            "\u001b[?25hCollecting tornado>=4.1\n",
            "  Downloading tornado-6.2-cp37-abi3-manylinux_2_5_x86_64.manylinux1_x86_64.manylinux_2_17_x86_64.manylinux2014_x86_64.whl (423 kB)\n",
            "\u001b[2K     \u001b[90m━━━━━━━━━━━━━━━━━━━━━━━━━━━━━━━━━━━━━━\u001b[0m \u001b[32m424.0/424.0 KB\u001b[0m \u001b[31m42.2 MB/s\u001b[0m eta \u001b[36m0:00:00\u001b[0m\n",
            "\u001b[?25hRequirement already satisfied: nbformat>=5.2.0 in /usr/local/lib/python3.8/dist-packages (from jupyter-server<2.0.0,>=1.18->voila) (5.7.1)\n",
            "Requirement already satisfied: terminado>=0.8.3 in /usr/local/lib/python3.8/dist-packages (from jupyter-server<2.0.0,>=1.18->voila) (0.13.3)\n",
            "Requirement already satisfied: jinja2 in /usr/local/lib/python3.8/dist-packages (from jupyter-server<2.0.0,>=1.18->voila) (2.11.3)\n",
            "Requirement already satisfied: prometheus-client in /usr/local/lib/python3.8/dist-packages (from jupyter-server<2.0.0,>=1.18->voila) (0.15.0)\n",
            "Collecting argon2-cffi\n",
            "  Downloading argon2_cffi-21.3.0-py3-none-any.whl (14 kB)\n",
            "Requirement already satisfied: packaging in /usr/local/lib/python3.8/dist-packages (from jupyter-server<2.0.0,>=1.18->voila) (21.3)\n",
            "Collecting websocket-client\n",
            "  Downloading websocket_client-1.4.2-py3-none-any.whl (55 kB)\n",
            "\u001b[2K     \u001b[90m━━━━━━━━━━━━━━━━━━━━━━━━━━━━━━━━━━━━━━━━\u001b[0m \u001b[32m55.3/55.3 KB\u001b[0m \u001b[31m7.5 MB/s\u001b[0m eta \u001b[36m0:00:00\u001b[0m\n",
            "\u001b[?25hRequirement already satisfied: importlib-metadata>=4.8.3 in /usr/local/lib/python3.8/dist-packages (from jupyterlab-server<3,>=2.3.0->voila) (6.0.0)\n",
            "Collecting jsonschema>=4.17.3\n",
            "  Downloading jsonschema-4.17.3-py3-none-any.whl (90 kB)\n",
            "\u001b[2K     \u001b[90m━━━━━━━━━━━━━━━━━━━━━━━━━━━━━━━━━━━━━━━━\u001b[0m \u001b[32m90.4/90.4 KB\u001b[0m \u001b[31m11.8 MB/s\u001b[0m eta \u001b[36m0:00:00\u001b[0m\n",
            "\u001b[?25hCollecting json5>=0.9.0\n",
            "  Downloading json5-0.9.11-py2.py3-none-any.whl (19 kB)\n",
            "Collecting jinja2\n",
            "  Downloading Jinja2-3.1.2-py3-none-any.whl (133 kB)\n",
            "\u001b[2K     \u001b[90m━━━━━━━━━━━━━━━━━━━━━━━━━━━━━━━━━━━━━━\u001b[0m \u001b[32m133.1/133.1 KB\u001b[0m \u001b[31m15.4 MB/s\u001b[0m eta \u001b[36m0:00:00\u001b[0m\n",
            "\u001b[?25hRequirement already satisfied: babel>=2.10 in /usr/local/lib/python3.8/dist-packages (from jupyterlab-server<3,>=2.3.0->voila) (2.11.0)\n",
            "Collecting requests>=2.28\n",
            "  Downloading requests-2.28.2-py3-none-any.whl (62 kB)\n",
            "\u001b[2K     \u001b[90m━━━━━━━━━━━━━━━━━━━━━━━━━━━━━━━━━━━━━━━━\u001b[0m \u001b[32m62.8/62.8 KB\u001b[0m \u001b[31m7.7 MB/s\u001b[0m eta \u001b[36m0:00:00\u001b[0m\n",
            "\u001b[?25hRequirement already satisfied: bleach in /usr/local/lib/python3.8/dist-packages (from nbconvert<8,>=6.4.5->voila) (5.0.1)\n",
            "Collecting jupyterlab-pygments\n",
            "  Downloading jupyterlab_pygments-0.2.2-py2.py3-none-any.whl (21 kB)\n",
            "Collecting mistune<3,>=2.0.3\n",
            "  Downloading mistune-2.0.4-py2.py3-none-any.whl (24 kB)\n",
            "Requirement already satisfied: pygments>=2.4.1 in /usr/local/lib/python3.8/dist-packages (from nbconvert<8,>=6.4.5->voila) (2.6.1)\n",
            "Requirement already satisfied: beautifulsoup4 in /usr/local/lib/python3.8/dist-packages (from nbconvert<8,>=6.4.5->voila) (4.6.3)\n",
            "Collecting tinycss2\n",
            "  Downloading tinycss2-1.2.1-py3-none-any.whl (21 kB)\n",
            "Requirement already satisfied: pandocfilters>=1.4.1 in /usr/local/lib/python3.8/dist-packages (from nbconvert<8,>=6.4.5->voila) (1.5.0)\n",
            "Requirement already satisfied: defusedxml in /usr/local/lib/python3.8/dist-packages (from nbconvert<8,>=6.4.5->voila) (0.7.1)\n",
            "Requirement already satisfied: markupsafe>=2.0 in /usr/local/lib/python3.8/dist-packages (from nbconvert<8,>=6.4.5->voila) (2.0.1)\n",
            "Collecting sniffio>=1.1\n",
            "  Downloading sniffio-1.3.0-py3-none-any.whl (10 kB)\n",
            "Requirement already satisfied: idna>=2.8 in /usr/local/lib/python3.8/dist-packages (from anyio<4,>=3.1.0->jupyter-server<2.0.0,>=1.18->voila) (2.10)\n",
            "Requirement already satisfied: pytz>=2015.7 in /usr/local/lib/python3.8/dist-packages (from babel>=2.10->jupyterlab-server<3,>=2.3.0->voila) (2022.7)\n",
            "Requirement already satisfied: zipp>=0.5 in /usr/local/lib/python3.8/dist-packages (from importlib-metadata>=4.8.3->jupyterlab-server<3,>=2.3.0->voila) (3.11.0)\n",
            "Requirement already satisfied: attrs>=17.4.0 in /usr/local/lib/python3.8/dist-packages (from jsonschema>=4.17.3->jupyterlab-server<3,>=2.3.0->voila) (22.2.0)\n",
            "Requirement already satisfied: pyrsistent!=0.17.0,!=0.17.1,!=0.17.2,>=0.14.0 in /usr/local/lib/python3.8/dist-packages (from jsonschema>=4.17.3->jupyterlab-server<3,>=2.3.0->voila) (0.19.3)\n",
            "Collecting pkgutil-resolve-name>=1.3.10\n",
            "  Downloading pkgutil_resolve_name-1.3.10-py3-none-any.whl (4.7 kB)\n",
            "Requirement already satisfied: importlib-resources>=1.4.0 in /usr/local/lib/python3.8/dist-packages (from jsonschema>=4.17.3->jupyterlab-server<3,>=2.3.0->voila) (5.10.2)\n",
            "Requirement already satisfied: fastjsonschema in /usr/local/lib/python3.8/dist-packages (from nbformat>=5.2.0->jupyter-server<2.0.0,>=1.18->voila) (2.16.2)\n",
            "Requirement already satisfied: pyparsing!=3.0.5,>=2.0.2 in /usr/local/lib/python3.8/dist-packages (from packaging->jupyter-server<2.0.0,>=1.18->voila) (3.0.9)\n",
            "Requirement already satisfied: six>=1.5 in /usr/local/lib/python3.8/dist-packages (from python-dateutil>=2.1->jupyter-client<=7.4.1,>=6.1.3->voila) (1.15.0)\n",
            "Requirement already satisfied: urllib3<1.27,>=1.21.1 in /usr/local/lib/python3.8/dist-packages (from requests>=2.28->jupyterlab-server<3,>=2.3.0->voila) (1.26.14)\n",
            "Requirement already satisfied: certifi>=2017.4.17 in /usr/local/lib/python3.8/dist-packages (from requests>=2.28->jupyterlab-server<3,>=2.3.0->voila) (2022.12.7)\n",
            "Requirement already satisfied: charset-normalizer<4,>=2 in /usr/local/lib/python3.8/dist-packages (from requests>=2.28->jupyterlab-server<3,>=2.3.0->voila) (2.1.1)\n",
            "Requirement already satisfied: ptyprocess in /usr/local/lib/python3.8/dist-packages (from terminado>=0.8.3->jupyter-server<2.0.0,>=1.18->voila) (0.7.0)\n",
            "Collecting argon2-cffi-bindings\n",
            "  Downloading argon2_cffi_bindings-21.2.0-cp36-abi3-manylinux_2_17_x86_64.manylinux2014_x86_64.whl (86 kB)\n",
            "\u001b[2K     \u001b[90m━━━━━━━━━━━━━━━━━━━━━━━━━━━━━━━━━━━━━━━━\u001b[0m \u001b[32m86.2/86.2 KB\u001b[0m \u001b[31m8.5 MB/s\u001b[0m eta \u001b[36m0:00:00\u001b[0m\n",
            "\u001b[?25hRequirement already satisfied: webencodings in /usr/local/lib/python3.8/dist-packages (from bleach->nbconvert<8,>=6.4.5->voila) (0.5.1)\n",
            "Requirement already satisfied: cffi>=1.0.1 in /usr/local/lib/python3.8/dist-packages (from argon2-cffi-bindings->argon2-cffi->jupyter-server<2.0.0,>=1.18->voila) (1.15.1)\n",
            "Requirement already satisfied: pycparser in /usr/local/lib/python3.8/dist-packages (from cffi>=1.0.1->argon2-cffi-bindings->argon2-cffi->jupyter-server<2.0.0,>=1.18->voila) (2.21)\n",
            "Installing collected packages: mistune, json5, websockets, websocket-client, tornado, tinycss2, sniffio, requests, pkgutil-resolve-name, jupyterlab-pygments, jinja2, jsonschema, argon2-cffi-bindings, anyio, argon2-cffi, nbclient, nbconvert, jupyter-server, jupyterlab-server, voila\n",
            "  Attempting uninstall: mistune\n",
            "    Found existing installation: mistune 0.8.4\n",
            "    Uninstalling mistune-0.8.4:\n",
            "      Successfully uninstalled mistune-0.8.4\n",
            "  Attempting uninstall: tornado\n",
            "    Found existing installation: tornado 6.0.4\n",
            "    Uninstalling tornado-6.0.4:\n",
            "      Successfully uninstalled tornado-6.0.4\n",
            "  Attempting uninstall: requests\n",
            "    Found existing installation: requests 2.25.1\n",
            "    Uninstalling requests-2.25.1:\n",
            "      Successfully uninstalled requests-2.25.1\n",
            "  Attempting uninstall: jinja2\n",
            "    Found existing installation: Jinja2 2.11.3\n",
            "    Uninstalling Jinja2-2.11.3:\n",
            "      Successfully uninstalled Jinja2-2.11.3\n",
            "  Attempting uninstall: jsonschema\n",
            "    Found existing installation: jsonschema 4.3.3\n",
            "    Uninstalling jsonschema-4.3.3:\n",
            "      Successfully uninstalled jsonschema-4.3.3\n",
            "  Attempting uninstall: nbconvert\n",
            "    Found existing installation: nbconvert 5.6.1\n",
            "    Uninstalling nbconvert-5.6.1:\n",
            "      Successfully uninstalled nbconvert-5.6.1\n",
            "\u001b[31mERROR: pip's dependency resolver does not currently take into account all the packages that are installed. This behaviour is the source of the following dependency conflicts.\n",
            "notebook 5.7.16 requires jinja2<=3.0.0, but you have jinja2 3.1.2 which is incompatible.\n",
            "notebook 5.7.16 requires nbconvert<6.0, but you have nbconvert 7.2.8 which is incompatible.\n",
            "google-colab 1.0.0 requires tornado~=6.0.4, but you have tornado 6.2 which is incompatible.\n",
            "flask 1.1.4 requires Jinja2<3.0,>=2.10.1, but you have jinja2 3.1.2 which is incompatible.\u001b[0m\u001b[31m\n",
            "\u001b[0mSuccessfully installed anyio-3.6.2 argon2-cffi-21.3.0 argon2-cffi-bindings-21.2.0 jinja2-3.1.2 json5-0.9.11 jsonschema-4.17.3 jupyter-server-1.23.5 jupyterlab-pygments-0.2.2 jupyterlab-server-2.19.0 mistune-2.0.4 nbclient-0.7.2 nbconvert-7.2.8 pkgutil-resolve-name-1.3.10 requests-2.28.2 sniffio-1.3.0 tinycss2-1.2.1 tornado-6.2 voila-0.4.0 websocket-client-1.4.2 websockets-10.4\n",
            "Enabling: voila\n",
            "- Writing config: /usr/etc/jupyter\n",
            "    - Validating...\n",
            "      voila 0.4.0 \u001b[32mOK\u001b[0m\n"
          ]
        }
      ],
      "source": [
        "!pip install voila\n",
        "!jupyter serverextension enable --sys-prefix voila"
      ]
    },
    {
      "cell_type": "code",
      "source": [
        "from google.colab import drive\n",
        "drive.mount('/content/drive')"
      ],
      "metadata": {
        "id": "gmGP0L-5ur4O",
        "colab": {
          "base_uri": "https://localhost:8080/"
        },
        "outputId": "1df020c6-14bc-4df0-aecf-6fb60e19c2c4"
      },
      "execution_count": null,
      "outputs": [
        {
          "output_type": "stream",
          "name": "stdout",
          "text": [
            "Mounted at /content/drive\n"
          ]
        }
      ]
    },
    {
      "cell_type": "code",
      "execution_count": null,
      "metadata": {
        "id": "sy5ITOPPKXMb"
      },
      "outputs": [],
      "source": [
        "#hide_output\n",
        "#get the model\n",
        "learn_inf = load_learner('/content/drive/MyDrive/ColabNotebooks/export.pkl', cpu=True)\n",
        "btn_upload = widgets.FileUpload()\n",
        "out_pl = widgets.Output()\n",
        "lbl_pred = widgets.Label()"
      ]
    },
    {
      "cell_type": "code",
      "execution_count": null,
      "metadata": {
        "id": "CP8OEyDMKiR7"
      },
      "outputs": [],
      "source": [
        "def on_data_change(change):\n",
        "    lbl_pred.value = ''\n",
        "    img = PILImage.create(btn_upload.data[-1])\n",
        "    out_pl.clear_output()\n",
        "    with out_pl: display(img.to_thumb(128,128))\n",
        "    pred,pred_idx,probs = learn_inf.predict(img)\n",
        "    lbl_pred.value = f'Prediction: {pred}; Probability: {probs[pred_idx]:.04f}'"
      ]
    },
    {
      "cell_type": "code",
      "execution_count": null,
      "metadata": {
        "id": "pTMnifbrK-75"
      },
      "outputs": [],
      "source": [
        "\n",
        "btn_upload.observe(on_data_change, names=['data'])"
      ]
    },
    {
      "cell_type": "code",
      "source": [
        "display(VBox([widgets.Label('Select your bear!'), btn_upload, out_pl, lbl_pred]))"
      ],
      "metadata": {
        "colab": {
          "base_uri": "https://localhost:8080/",
          "height": 169,
          "referenced_widgets": [
            "683587145a7d43a38a42e16021d98698",
            "95004f7e8edb4dcb93b79bed9f93e154",
            "56795221e3ee4102a0d4d22fd5bd870b",
            "dc1b6cba62db4d91aa7e501b705665b8",
            "65ca9976d11146e0b22e514a6457f550",
            "96fd35adb236411b984973d706608c0d",
            "054dfdaf793845c2a5ac2c6a48c67fd6",
            "eac08f6283934be28ef50326dafb4515",
            "aab699af0e3448c4a1e9f728af47e595",
            "e77b1ad969e047c0bfe936b597819a04",
            "06ae4f1253fb4b3791ec8aacd2d30161",
            "95b02d569ba6441688d55176195a4fba",
            "e7812882330c42c9b970a04de6585811"
          ]
        },
        "id": "tRWFuAwGtpvL",
        "outputId": "cd929433-5729-40d2-8061-55d0fb996e0e"
      },
      "execution_count": null,
      "outputs": [
        {
          "output_type": "display_data",
          "data": {
            "text/plain": [
              "VBox(children=(Label(value='Select your bear!'), FileUpload(value={}, description='Upload'), Output(), Label(v…"
            ],
            "application/vnd.jupyter.widget-view+json": {
              "version_major": 2,
              "version_minor": 0,
              "model_id": "683587145a7d43a38a42e16021d98698"
            }
          },
          "metadata": {}
        },
        {
          "output_type": "display_data",
          "data": {
            "text/plain": [
              "<IPython.core.display.HTML object>"
            ],
            "text/html": [
              "\n",
              "<style>\n",
              "    /* Turns off some styling */\n",
              "    progress {\n",
              "        /* gets rid of default border in Firefox and Opera. */\n",
              "        border: none;\n",
              "        /* Needs to be in here for Safari polyfill so background images work as expected. */\n",
              "        background-size: auto;\n",
              "    }\n",
              "    progress:not([value]), progress:not([value])::-webkit-progress-bar {\n",
              "        background: repeating-linear-gradient(45deg, #7e7e7e, #7e7e7e 10px, #5c5c5c 10px, #5c5c5c 20px);\n",
              "    }\n",
              "    .progress-bar-interrupted, .progress-bar-interrupted::-webkit-progress-bar {\n",
              "        background: #F44336;\n",
              "    }\n",
              "</style>\n"
            ]
          },
          "metadata": {}
        },
        {
          "output_type": "display_data",
          "data": {
            "text/plain": [
              "<IPython.core.display.HTML object>"
            ],
            "text/html": []
          },
          "metadata": {}
        }
      ]
    },
    {
      "cell_type": "code",
      "source": [],
      "metadata": {
        "id": "7Pis7AN-uDbP"
      },
      "execution_count": null,
      "outputs": []
    }
  ],
  "metadata": {
    "colab": {
      "provenance": [],
      "authorship_tag": "ABX9TyOQC5qHg1xIOQHzZlWbe6LK",
      "include_colab_link": true
    },
    "kernelspec": {
      "display_name": "Python 3",
      "name": "python3"
    },
    "language_info": {
      "name": "python"
    },
    "widgets": {
      "application/vnd.jupyter.widget-state+json": {
        "683587145a7d43a38a42e16021d98698": {
          "model_module": "@jupyter-widgets/controls",
          "model_name": "VBoxModel",
          "model_module_version": "1.5.0",
          "state": {
            "_dom_classes": [],
            "_model_module": "@jupyter-widgets/controls",
            "_model_module_version": "1.5.0",
            "_model_name": "VBoxModel",
            "_view_count": null,
            "_view_module": "@jupyter-widgets/controls",
            "_view_module_version": "1.5.0",
            "_view_name": "VBoxView",
            "box_style": "",
            "children": [
              "IPY_MODEL_95004f7e8edb4dcb93b79bed9f93e154",
              "IPY_MODEL_56795221e3ee4102a0d4d22fd5bd870b",
              "IPY_MODEL_dc1b6cba62db4d91aa7e501b705665b8",
              "IPY_MODEL_65ca9976d11146e0b22e514a6457f550"
            ],
            "layout": "IPY_MODEL_96fd35adb236411b984973d706608c0d"
          }
        },
        "95004f7e8edb4dcb93b79bed9f93e154": {
          "model_module": "@jupyter-widgets/controls",
          "model_name": "LabelModel",
          "model_module_version": "1.5.0",
          "state": {
            "_dom_classes": [],
            "_model_module": "@jupyter-widgets/controls",
            "_model_module_version": "1.5.0",
            "_model_name": "LabelModel",
            "_view_count": null,
            "_view_module": "@jupyter-widgets/controls",
            "_view_module_version": "1.5.0",
            "_view_name": "LabelView",
            "description": "",
            "description_tooltip": null,
            "layout": "IPY_MODEL_054dfdaf793845c2a5ac2c6a48c67fd6",
            "placeholder": "​",
            "style": "IPY_MODEL_eac08f6283934be28ef50326dafb4515",
            "value": "Select your bear!"
          }
        },
        "56795221e3ee4102a0d4d22fd5bd870b": {
          "model_module": "@jupyter-widgets/controls",
          "model_name": "FileUploadModel",
          "model_module_version": "1.5.0",
          "state": {
            "_counter": 1,
            "_dom_classes": [],
            "_model_module": "@jupyter-widgets/controls",
            "_model_module_version": "1.5.0",
            "_model_name": "FileUploadModel",
            "_view_count": null,
            "_view_module": "@jupyter-widgets/controls",
            "_view_module_version": "1.5.0",
            "_view_name": "FileUploadView",
            "accept": "",
            "button_style": "",
            "data": [
              null
            ],
            "description": "Upload",
            "description_tooltip": null,
            "disabled": false,
            "error": "",
            "icon": "upload",
            "layout": "IPY_MODEL_aab699af0e3448c4a1e9f728af47e595",
            "metadata": [
              {
                "name": "images.jfif",
                "type": "image/jpeg",
                "size": 6108,
                "lastModified": 1674042722953
              }
            ],
            "multiple": false,
            "style": "IPY_MODEL_e77b1ad969e047c0bfe936b597819a04"
          }
        },
        "dc1b6cba62db4d91aa7e501b705665b8": {
          "model_module": "@jupyter-widgets/output",
          "model_name": "OutputModel",
          "model_module_version": "1.0.0",
          "state": {
            "_dom_classes": [],
            "_model_module": "@jupyter-widgets/output",
            "_model_module_version": "1.0.0",
            "_model_name": "OutputModel",
            "_view_count": null,
            "_view_module": "@jupyter-widgets/output",
            "_view_module_version": "1.0.0",
            "_view_name": "OutputView",
            "layout": "IPY_MODEL_e7812882330c42c9b970a04de6585811",
            "msg_id": "",
            "outputs": [
              {
                "output_type": "display_data",
                "data": {
                  "text/plain": "<PIL.Image.Image image mode=RGB size=128x56>",
                  "image/png": "iVBORw0KGgoAAAANSUhEUgAAAIAAAAA4CAIAAAC6xWeEAAAtiklEQVR4nL28abBl13Uetqa99xnu8O57ryc0gEY3QAAEJ1AmDYqiqXCSLIpWSbKVcuxQk62Ukh8JVVGVnbIrlmPLUf7ISSqVcvmvU0ooU4oqjkumZLhUVpkUxUmcAJKY0XO/+d3pnLP3Xis/znsXl90AGOVH9o+ue8897/Q+31rrW8Nee+PZ8xWSIRKCs1yaspPpaFSIAwAAEwBRij54VTUzBECAAhUMVRnUO1c6KUIhRcGh5LIMwQ80UycEhpBJI5ISAFHIgAAAbdsCACIaYQhBVVUVAADAq5k1oYRQsBnM582sdaoUQigrGoytjXvd9LBdLhfLhVlGBEAoQl0UozJMhAagBZjrDBBQkIL3BMhIim3bNogoIgBgpsICyIrUZWiiHhwdN13DhIO6ZDTQDGaOkBCJCADyyYhmycBUU9s1XbdUzTFa22REAkxmHYKYoRkyCbNr2q6Jmi2rxi4uRdAHIfUpZoGTYYgAaEhQFIU4QcwxRVAwALWIhr0AmNk5xyxgSEgZ8HQQIiGimZklM4qdmgIqC3gEBFCwE5QJAAAQAIignz4YAgKAmpllVTBDIvbOuSyq5pw6n3Ne5jzvGmmXrms8gKlqzikWc1MRqnw1QAIwoIxgCAAiUvhgWYEQsZd7P0k7eWeAlJKZMQEBaE5d2wbHjkmYCu/BLOdspyMlMzMDI+IQPAvmHJkUIceYDAAQRdgUUjIkADREU0hmapYBLCXNmjRGUxMABOuhN7AMhmYWY1TterkAIJNj9IhqpoUriiKIZTNQRFVFBCIgZCRCBIOskBRAiAwQQNEyGCAQnao5gyFgr7xgOceuBwYQsoFBygqqIMKh8CiVWgqlkizaeGg6r6oJkzBLF2PbdDlpiskARFiEENAM0AgVCdE5Vw/qbtm2MZkRAKSUe2VKZnYiAAVEx4iljykyGqiyo+CFmWIXY4yn6p/NFMDUVDUhGiEpqkE2UEJTMDDtUuNcqKuiaxNABlaAZJDVspmlFHNOYIFJJMbsAzknRJgs5ZjNKCdDAiICIwAWch69FC7nJOIEHVgGMwRjQiIEtF6hEU01pmTCXhCRiYw1nShXNlVVMyUzQkKjlDs1YIIYIyIyMyKYGYCZZWZ0TrwPgGg4N+wgRzZCt/SoLCYtECMxMQ8c14ghJ0A0JixCoVmDcyJiasyUGzWFnPs5mJp1AGZqakyAYJXnJoFjJFACQ805dpa1bbumafq/MjNEI8IYY0qRuLciBVSADGSWc8oRPbOHwUbVNWk6naFoUXHbpKyZCJhZ1cQXdT0U55wTco6ITjRSRJiVuKcNAiBHQajw4oENAEAJgQANQL1HERER5zxhzrlDygZmCGCAYGjg2DEgAVGCpLmLnbAQAUHPO0YE5LgXAJiCATM6xz4IoZiBgRlaSkhWmpVqC1M1A82AKN6Jc0PPA7QSLCA6NEdMTpwQIWJKKbZdT2umZooGAAbIYmCEmdGoN/bgAABBISewrCk2qWuarm0bAGBmZj4hILMYIyZFMpLU/4qozM6jYSGhCFVdDEZipNPpXNvkAxOjKTJ7ca4ebA+HI3HinCPnkRABlBBZSJiI1cAAubcAYRESZtasWTMiAxgiOuecYxHnxAFq1kQn8yOAZGoGKBIYkYGqUDfNEno9gt6AuOdjYSYiZmYmIy4KE4feC6GYggEasmYhKM0kZ7ScNWGOiUyYpQyVk4KgIAgEDpCJKAQP2Qws5dS2rfYyM+gZxACQhMAIgVHZFMCSGgAgmIho0phV1VRzzjml5L1nZoATZ0DUO2jLuQFjFkQlFiciWJIvqmpY1tWoi7HpGuZAyGBcFNWg3hgMRoPx2boeigsNSyCrhJ0USpg9tmBi2SE6X3jTLBiEHAIxComRMkCHRMRCToBJCRIcIwCjB+PYGWEg6hCIAECVmb0EzOSJMISUIiIxk5KpQlYkBMJMpBAKH0JRdMQtS8OUui6bRdPM7MqiytGbOsMlUuM8IjKTF69GHUuBZAAABpC6jMbMqpBTNs4AZKaGfRiAYIa5QwQEMOQEpJohGiAAYVZTE2DwktsuMwP0TtzAsDUDFo7GKCoODIIZIYgQOQfiwQc3rM9MxherarBs8vF8r/Abha+Ey9Fwa2vz3HC4UVYTYhbHIuSEnGOHlJHQk0J2ip4peO9Vk4AXccxMRGZGgAZMjMgM0PMWIhAh9kI2MzBhAkZm8D2NpJggU85ZsxEwIhESMSghAnRd61CZyBcsLiFlcWCYkqWYomo2U+8LL2W7hKQCyIDE7AgdkyPinMFUFRUhIwKogWVwhIiI7JyYGMY+BDph886yZk05GxgRERKAIoCZKSgROHGIiKNB7FKMWU9cCPVRY1F5X1moENmBCWiBKCH4onRFKKpye1CdFXFNu0ypHdSbg8FGXY2Hg8lwMBEJMakZiONCuBBxjgUJicBRAeQUvUgRnFdNjEFEmPnEESGiCSECspqhEVpvi0jGZKRmZMLkGUnQEYhliCmScc6aUnLOESEiEhMBgRkLh8LVA+9KNoyKKaZl0piSQvKmYAYIrgiWtBVGREFyiEjkCAtQ12rMGQB6AZgp9U6ImZxzzjm1SITM2OccqpqTxdi1XZtz9t555wGyWR8XKhE7L8RY1kXsckp5uWhms6WqGJpB8qK+tHrMIgzmQUvHo7oeDwfDIgyCHwY/yknTRnYSNjbOlMVAXOFdIexTUtUEADIsJ2C9p2UXWJxDBVMHHIQLRGBm6cmZWVX7mN9jMDA1QAQEZmIGYyJEMrXC+8KXzolmzUmRGcwAVNWapjVTEXHOmVkXO+cKBPTOiVBRFIgtCrbZYkpRNalRykxeKKTI89SamSrmTJqJCA3EkDQRmHSdemdEimhETEwsZKZZEykSqfdilg1MRHICB9QR5BxzzvN5m0IIwt6xavZBRJBZiUE1AZoIEyFANgRFU0ggQD6zNybvuAhuswpnhoPN0Wjs3RBB0CRJHoONRpNQDogdAgJQVlNAZgEwKV2thmAQArOLSBHAEZeMlSkDGGAmZCIiohBCH8hLymonoSgRM4kgMSIxA6JjIWNVQQBiIyQgNUPNSoTMvg+c1NSSxRgRxHtPpGbmgAkhkTNwMUMXc1Ai8ICVZVZQREudpkxZGQCIkIk0Q06gqibATOIcMzgx51HVwJJa7jNHtayaYtS2bRIYgDJjjCnlRAkYqShqFwRADdSAYtScc0pqhmrZedHcAaihARkQGgLhYFifr8tzVdisqlFVVsGNAAjAsmZmBEQlhtPcx3oWNgEACb7s06OqEEXLGpE4uMK7QdeqmQJkwpMITLMaGAAQCZkhmCEgMSE7doREzMKChKagkZywE0ZQtQioasrMIYQTAahCwq7rvGM1S13Hi2wBKecmZ0AXY1os1QkDeIWgmQAzYBYuER2pqCqAYyzFUaaUUuzDwaJwRCqC3qMqppRTzt4P+hgmRsw5q+Zk2UDFsTfHmbz3hSNmMI0GhkRqGmOKMeesKWUE9t6x63N69hUUFZaVv3/r8TObDyFUBMH74LxDYAAAVFRIggAMzIBIPf6GkMGjR0Ah8mYxFGDUqDUGkdiAvFlFJKagkKNm6zNYYlA1VUUAQsKeyIkASp+9r2JyCtSmpk3LkUwCFw7MsQIbAc1RmyYSJxYDpmwxE5rnxBmJ1GjWgRJvDSfvePwv3Hdx69lv/9lXvvzFtiUqyiAlmmVdimASQqxzLpz3k62tm9dvFtiBk2VmNRiUoWTWwOzYCRkYJaCkhXAofVFqTNa0YFKENmbtclbVIieyTD4k5AiYAVAzpI6QfBebriVEITZA8MUmcAN85AsdVqOt4cWzW0+OB9uA1INBRDFGMEDirFkcqaowI0CvrmaaQQnQzEQ1E6FqNotZ1SznpJoalaVQjX2+BWZ9gpQS9+kSnNSA+tAIwDJiMotxiQAbA3/poUcu33/eO9YUvVBZuNh1u/vt8dFxthyCU9AYY2dwZ+dOTsksEdFksvHOx+7f3hgu5kcv/cm34uzoBx++/GdXuy6hMUkocqRMuWR0LBuTMz/6oz+yXC5v37515+aNV2/cKAmd88NQiEIDraEhGhI5cQZcMocCM1AyVySpBkXXtDm3OXcxphQ5R8q2BFIiMoMMmA06nUdrjMSQWEgCh5JRBMgRqeO6DBPGwkCYTopiAGQGZkAGrnc7OTNSHwBDX7+x3McCknMKweUc1UzN1EjEIQqiEWUDQmWA3AfXMUXs+fVUACJy8t86N53PHrn0wEc+8L7J0ENeHC1u7Ny+vZw3N6/dLEPZtt1sbm3bnj93ZrY7f/DB+8Whc/Keh59YLJdMlFUP9vfh4MU//LdfFilv3boznTVve8c73vbw47NFOjpuXHA0rMcbG85ibJv3PPUDHOfPfe1Ln//851y9dfktDwMrC3l2uctkOWlMKeUcmdEJCy+YxaDLTWMmwk5qypmz8mLRIQKRYWZAJepjPQUE0saXkUBEfFmGqg5UBEAGFO/L4EeMQyREPAGEiBDRe79SUDNTVYIT/HPOfVGwD4VFNbetGkQDY/FBCgBhEoNsGBEcswC6E9/Lwsx9NRFPTaEP6TDH9z315Ed+6D1D0W999U+HhVehOEvHe1Po6LnnX2iX7daFM8IQl3sXz0yo3dvcmhBoOrpRe3e4f3R8fLy7u/PNw4Os5En2l6S8+cxLB/fPv/C2t7/1L7390fm8EVdubp27uXtgsHH7lee+cWf36X/372/dufXCtYO/8Tf+2tvffjmm1nnfIaMhRTNNCFk1gQkRE0XS1HWzpjWiEgkAlVhZrGmanInIAaBBIoFQhJSUMVArdbm1vXWhqmpmOPHmxE6qupoM6s262mSS02pEX+Slk7pvL0wzNFDV3EfKa0PMNGc4EY8ysiN0OWUpjNgQkIyRwABQTXPqBQen9eTejh5++OEffN87Hn34YnN04+j4KEh++g8/e+sgve3tb0sdeF8+dOmh69evLdvloA5MitBdfuB+J0hcpJRjjN7R4f6Oacror97ZydDuHDbn7zuzu2yqqf7BH3z2B+5ce+DCBUcu7d08blKox+yrf/1v/vA7r9wy9vOmq8uCtIM07zQm8AAdU/LOYsyQI4EyeTBNsQXNudOorbERG7PlrKZGRKpKrCJU1c57z+RbHosMNjfu3968ryoHgJqyIQmTc1J4X3gXAAX6BPwUmfVxUrhQe90b5KQi2wvJSBVjym03B/RwUgSzbLmHmxSMqFd/RFQz59wPvv/973zH2wd0fHzr5d2dl9v58eHOQSiqZEd/9o2vP/H4FWara3pkfN/VW0e7e3uL+cF4eKlpF6+8fH3Rkg9hY2PjeDqTspoeHOamHZUOhC9ffmz3aHZwdPTFF+J46NJ3Xvn8V75+38Z9b3v0LQ8+cO6V6y996ZmXv/S1ZxZcdaClC7du3ZjUsR76xbIxP3DUIWpw7ERiUuecMKmm2HWQIXXadR04QDZmUDUwEvEA4LyEMlQVs3BdD93gXD04M6zOlcWkLAaIljMhOmbHxGop57hCs1f/daBPKq99SUn1dQQAwH2Qn3JGYDOKcQ4AOUvsACASKqPLajlnZu5yVgRg8sgG+fKlh5567zu+9Wdf4uXt2fHBA/dfSI3t3tnzQa5cOb+/f3jj+q0zW5OD/WPvcLaAshq005uL+fRw2ixieP6lV85f3FYHOwf7LHWW0bCmnHOEPD8+DCiLw6mATvdsw4/ns248wWdvvvitq9+9dOWxzfsvsJdm0STIF86MXn3pxZvf/eoP/0fvC5uTeZqbADMImlnnXBZnmdx8kaaNpY4MwagBrAAgaQJQYGPfQWGu5KIqvB/U1Znx6HxdPFiWw6KoiqJi4lNMwQzMcl9PhFONRMJ+oQAQ+3UlNDA1ywr3QN/TlLzmE9T0JGxABmESIgGAfpGFCZkEEfuKjwKopvGg+PAP/YU7r3z7G3/67y+cHVdlcf3arfl86kMpIreu3bh2/YbngIDN4jDm5RLG25NitDG4cPF8Un3muZcuPfBgtnbv4KiqR7fuHF57defi2XOuHArjdNkdHC+cLzgtFk23c2fv4sWzB8ezZQcH+7OvfOvm5Pz5elhWm4Oj6WI0qnzwaP7LX/7auz/wfqzKlJIZoikyAkAXY5PTYpmXbc7JFAwFwEV2IGIAmjOEQGE4LquiqqoijOry7LA6OyjPOhe8dytaRzwpFyECAr62JIhoZoq68rEr0O9S/NcWEYmkX40Tsd4/rCTTZ16IAIY5ZWFxTlSNiKjPZS1+8L3vHHP7R3/yR04XMY+mi2YyHvmyeun552/durUw3j+cki0z8JVL5+bL48OD/OqNmx/6wcc2z2zNl92Dl+8/2j9aNPOirmJ2V6/dWjRtm/X67T1j7Ax295rheDMvreu62fxgtqwffPC+Ozu3dva7wWjy3HNXq7pYxGZz7Lt2VlT3GQF7ev6Fq4++4205dqaQDTRpTLFLbZstRuw60GxERoLlSENFRclgkpMLflRVl8pyUFWDqhoXflSEoZcSke5l9h6iFWI9oD2GtuYm7x29W+6LOj0FARGllFS1LzZ0MRMhM+ec+9oDkYGBOEbElPJkMi6L8OgDZx++b+s7X//S9GC3adrdl6+GEJ759nNds5hPj1PsZkbsiuODmQvzadPd3jm4edCV3nYPZ9fv7M1m8bmXbj3x6OV4a+fFF29Ug0FWSllfvXY9FMXOwZ6vBmVdLpv2gTPbwjZdNLd29mdtilEjVJ25S5evAOb5YhZK//wLr3z3ueeHVbW5Obn54vUO+LGHL+RkAG7RxjbHmHIGXC67nIkQibUqHflYjUNVS04Iua6KM4PiYlmOymJYlUMRz+yE3Ql/n9bBehXuq5M91qtYc6XgOed1xkc8qQD2VvI9PiCEQERt2/YpnA9+PK7mi3lKqS8YgIFiNlUiICLVFIJ75KH7H7m4tTjaPdzfv7k/vXUw2z86mh4fPnj/xenxtApSlHV7PO+aRRdzMRgdTpezZbt70BbOXnpl987t48uXL+/sHV27cfPcmfuef/HmtWs7EmQ4HlITg8Nh5atRVXb08is7R64FyyGwEty4vb+3v/SlL+azR8pLsZ0jWJ63jOCLIoLbOVgcHOwVVf3I/Weargm56rJ2GbtMy9g2y4jAzEiaJUFBBAhZE1IhPCqLc1U1KYtxEUbCQZhYTtau16FfHyt9XzV2rEvi/82QoihUtW3b4XDonBvUg+GoBIS2bZm57+DQZIrQ13JzRiYcFv5w9/bV737z+Rdf/sp3r6Ziwxkg+9mym86WKUkGaNqE7DjIzds7cG5S1mOSac7N7TvTUV3euv11duH2nZ2N8dnReCupK4ceMGOebdRDwhiq0C7nHjXHLqZusDE6unM8X3YkhbIly+L9qK5mB4fXXn2lHPmqro+O49HRIQEIu8lo8tIrLya1LNJl6LJ10bKhd44YiI2EiIMatl0SJicDJ5tVNSjDoCxGZsic2eWc7ibu02QLV0DnnPuFM0R6c/55HQF0il3bsdBg6DcnI2bwQYuChJ0ZgmYDQAHsVFSdkFRcDqnrGkoLT7pZu3c+9tCLN4/m07g5HrfLZVUFERQnGNP29qYCLpv26s1dNRyUFahTrmYRIFnp8OX9Y7t6a+ClEDu3MWra5SJOymo8GpSG1Db4Sj7osvpyQFgXDsTixuZkv2mY4ubYN4vpnenuFGkbqFnMj6eLNufC8Wy+RNYHLt33wiuvclFkzTkrplgKOa/kgITKOjivqJXQuYE/P6jOD+phcHVZVsymmgEBjMzyyTomcl/oQdQTkBEADFDNFNAAVV9rtLDTlfr+noykCIqgYIaqRApoZiaLZomWiZUY6kGRugYgDwaFZui61LYxdRHZ6qI4M5mUVVC2elh5785unQ+6ODo6Pr7x6ng4GNYlAIRQxNRtbY0Xyzkh7+3tIzO7sGhSUVaLxcw0loWbzrvCiTWNBffMd7795Fse9Y7RrCzLtrP5cnnp/q0XX3758KiJqRE/FBecK0xnwRFjHAqVnrrjPYSYu3ld+tTFm9dvRvTVYDyoQk527dqdp37wL97aOZ61y2SYM1gOSAJGTsRXEorC+WUR6jKcG5QXhtV2VY6dC0Tcd+8AoFkfkeBJ0wwCEZ42bVgfDp20VAH0hLRS7f7+9c+rK0iAhqh9XRlTXYeyDKo6PZ6lmJfLBTOFwoUiDIf1eGMUvB8Ois1JPR6Vg7rIKXbLhQ/F7tH8qMmH8w7EH86WO/sHTUqLtl208cbt/Yw0a9qouOjydLG8s3cwHI+AqO1i13VFVSqgl2IynhwdH7Pz6FyTcwg0mgzvHB0uckqQqto78ePRBqACJsV2Ot8ZyfLy+dGlC1tnx/XD57e2C7KY0ECQFrN54cPlSw9tbT347LNXq/pMyiFGjBHNWIEVEIhCUSBRjggQHNdCNdNAaOR9QYR9G1aPXd8qsIpzVqnW+lgjJlp97v9k9e/qyuriCQXVA1+VHs3AtGnbRIicijIgsmksywGzzGdYlY6p09zGZIsu15Mzu3v733nx2myZ3GBya2cfgPYOZ6FpAWwZdxfL1swxF+zLw8OjBJyzHh5PTXFn/3A8rNsuMtHseLk1GrZtlM1ymXICrIrQ5LxzOJu22iQdjkcpKzOL6dF094EHty89dOnSZHzh/JlQOe/9bNp89ctf3ztup1FffPX2Yjq7dvWlQaDzZ7e/9NUv397bee/738Ne0GHSuZSuqIMv1RVa1h5hU2hTaCQ0YKwQnJn1idE66HAaaMJarvu6o1807J/QA73uD1a9dSt3bWZSVoKkqe3KYhh8QDNfCRG03dIAmIEICucKz87lEJw3V6sf1dUXv/jlq7f3Mrpb+8ez+XI03vDlIObOzBbTpQ9hPm3r2jfZMkqXs/PF0fH88cce+fKXvtrnKHVVVFXY3NwcFmWMbaemTEQ+Kiesp22TLXSLtgxhd3dvsjV++OEH3v+BpzY2x2PHuwf7dw4OQ6geu/LYR8+eOzqevnpz58n3Pnnz1s6tm9fYmi988T8cTo/e9q63DCcOPbATIGARdsH7qqxGdT0eFmdKv1EWW2WYFEUZCscM6/q7ihrXcb/r85uL5K6x7qJP8oCUW0+emZiJmdGMWftnEiMxEmHwIXgIHsqCPBYso+e+8+2XXn75eNEeLaa+HEyK4WK5rIbj2fxYNanmLqnzxbKJIEENYzYvvplND4+OL1w4f7i/P5lM2i4RQFUOcoqz+XyhrRKAH0o1ePXGPkkInisZLuZHMcXNrY23P/loNXCz+f5h18za2JJM227x3W9X5PLiEACJ/KVLZx6+fIYsHxwvEmSTJKH1tYSKCbe8H3i/MRyeq+rtejAZFbWTyknpfWDpU2KC761lrkKd9TB/9cFOvUSv13+u+OdEAB7ZASXTtukYnamaAyAWKRiJAZiiHxmXEgkFRMhrsm8+f+P5qztRgb03hNt3bm2MxzG1fSo4Go66mJaNhiLEFC3HQeBRyY3VQry5NQHL2bQclFt1mB4dNDEeTWc3d/buu//+PePdmzeWXd7YKFDcbLk8nLeDYUFlJYNiofMETczaxqSmAHQ4mx+ktFFk8cEQo0KigOTzUMuqqAd1PazKqiirOvCDZTEsy0FR1EUxKMuKsNd3ZmYEWzVYvgler0sp8AZ10HufcC+PSRBHxNmUEHPORJSyWhODOESFkEfDmn02Sxk5ZhwOBns708N5y75q26ZdLtk7QJzOZ/1kRqNhzvlg/yhU47Kq9nZ3GKEqC0doPsym0+GgfPih+w8OdgeBHcHR4X4b9Xi+ALXZ8XzZwPVbO2fPnFkum6aNx8fHjGHvcHHzzuFga9hZA5TQIngVMCJyhYC5OtTE3riQcuzLcSiHoR6XVVmVVQghhOB9IBgwO+cEEUTEiaxi+76+BnB3mrr+9d4k9nUl8X1lsC5LMxN2hAAkQIQpdUVRqFq7bGVQqCVYNMORbxcRIG1ulF5C7PLVq9dns8WybRfLhpxMj6az+fzsmbN37twpiuLOzl6MMYSirmswa5qlINZVmVLyzoHl2MwDDSTNJdrucVws2qKsBHlzPJhOD467qffheDbf29vf3toEwKZN2WzRsAvbxwcpWVeNZTQeCnsRL+KEw4C3q2pcDsa+GHGonCu9DES8c66vGRARUkQ0AFytKa0rZg/KqiD2/89YrQkTIhBbTmamy3mn2awGJiJMR0d7SZUJN8ebg8HoaH+5u3tw685u07WHx8fjyaSLGVkOjqZFVReh6LrOkGPKMcZBXTFLTh0RzWfT+86fJbPZ8V6OnTB3XeuqjceuXDx37uzF++5bNss//uM/bg/ifNksjo6d8xmw6yIAuVC1iR668s6H/buIkQqrqir4kkiIhckFrpgcsXehQnSGXDgkAgQ0WHVuyypOX1fYddBX5LAunpMlrbWf1pnnTRZhVhW39XtWbe4xRjOTrmtCCMyY0kkT/HS59C7EGEMlLNg082WTsubCB4dF12HbdIY4nS9InDi3aFskCoXLKR1OpzEmMxsM6rIqc84iMhjWzXKpmjFHERoOhx2IH5996PJDm+cuBR9Mc7mxbfPpePPsC7dfjimHUG5tbQLifLHPAvO22b5w4dG3vrOsK2QCJGFh9tZ3ZyCxZEIEYFVA6Lv0ZgAK66Rubv3bG0X0dwng+8L9urJZVYf6wlxKqSe6vkjXfzihoKOjg8FwKOxVoVk2BkRcMMl8vkidDocgThGpbRZHR8fntvNymWJMoSirerhsljt7+13Mk81x17Wz2Wxzc7PtjlNK22fOCdL0+FhVNzYmx4cHRXABc9s0Fx586KHHnrjw4KXx1hnisvBuMhpsT0b/1+/97vWdfSBJqUmpa2/evnjfRSQ21mpQXnnLI1vnziEysUBu+/ZOoJMkVU3VgNDIgBAJKAKd7sR5Dd57Ef++Yx1T+H7O1l5v9Iib2en+jpN4qc8SpJ0D5taH7FyhUbpWR5Pa+7BYTg1gwMNQ+y43iyaHuR0exdQYkM9qy+Ui5rRcLMuytJhSEx25+dEMs21PtsXo6ssvmOXtzc0HH7jorzzkvL946TIgX3nkLRcfeHA0mRRlXRRB1YITjE23aIKqYxaR2HXLrrt2/VpZFqWE81tn3/XYE6yQyKKpAwTom1IRUQEMDBDRwAAtA6gpAN+Lz5sA90Zf1w3lzZ3w+lL7CuV7jWaVoPXXhdgvlo24OsakGXKG5aIRISYgpqy2WMamjcje+YG4+sUXXvjGt56dtV1Z1y6lvn84p8RIXdehyKAaDMr65ZdeWixm3vvpYvm2d777qaeeqgeDYnIOkDbGYzMTEefEQBGZiRYHHRnMj48WC22atqqqxWLBRDllUMNsv/N/fPrChYsXHnm4y8lBvy/nNVBfWzN5rSLz5wjJ72X8uwSwfmWFLKyp/Drur0v9cOrt7TSzOxFAhgyCCXOKUU2MBS21iymxJeLpwVHMnXJV1ePNs+eamF569dWoWQG6GMGMRWKMSNQ0S+fceDzuuu769evEHIabZnbcaDnefvdTH2jaVhF7pFbJi1k2BDATX3zwIx978bnvPvuFr9SD4WKx8N5771OK7Hm+mH3uc//BV9Wv/v2/F4YD/HNg+/9xvJEPWAG9fgVOO01W979JenyXwMhYJBTztp0um+P5ctF1GWzetMsuGnly9XB09sHLj7/9XX/x4qWHv/38C9du3VrGLoMpQpuTMSbQZBpCmEwmTdNMp1MzrauKfIG+IF+Mts60Cih+FfKtJtNvMUNi8eE9T33g8qNPIJKIEJFzLqWUUgLQtls2y/mffv7zv/GP/9HhnTuA8H3Tzjepnd071qtjd40Vq9y1yHUvlHeZ0V3ye12vYGbSmSCyEfpSuCoGg8l958+PhvWZs9vjjdFkMp5MJuV4HJy/ce3aMurhbAZmzhdJs4LNl0smEufe/e4nEeCb3/xm13V2GoExYtO233n22Z/8iZ/ot1n12tH/SoQEpgba79cqw8bZ8z1F1nVNRF0XR6NRNaxmh8d1XVqKX/vil379137tl/+rT73rXU/O53N44+rYm4vnjcY6TCsB3Mvj9wJ970zu9Sv3Cs/M5PHHnxyN6yK4za0z3g3Go+3NM5viaDgcFkVAwr73XESUbt+8s7PoWjSIdrLyCYBt7H7lP//l//Sv/vWnn/53zzzzTAghpZRzDgWbGQi8+N1nusUUzIxkbZYnvWAAauDUtE1Krkg5M/Pe3l7OmYmKwu/s7kBKG/WQgEn4mW988+/+nb/7c7/4i3/tp3+67yh4IyhfF5c3wX3dbd6rwn+u5/SyefO1yRMBfPzjnyiK0O8GZXbOBXGCiP0eiv427xBS3rt6c+/6bc9ezRxw13dtm330Rz721//m32zn7YuvvDwcDgmxaZp22ZRlaajR7OBgfzqfbmxsnHa3IxIiqAGYiQECxD6Yqctw//mzTdPlFBXgyiOPTjY3v/zFzwkiDrkqQuVkWMitV1797//+f+ty/qn/+Ge6nGJOZP1mr9fqaPcKYF2p771i31v1vBfue/2znfZn3iu5e0UI3+tOEPGkH+Xs2bOr6iuf7FI0QiQwSxERmUi7qG339O9/dv/2bkLNTJbboipF9B3vetff/lt/uyzrNsFbn3jrv/n93182Tb8rr21aZGSWw+Pj/cPDjc1NywlPAnfqoxQzMTSAzGzCurd3pwp+MZsH76SoPvnzP//Q5Yf/6LNvvXP75o3r15779rPj2DnmgmQxPfr0b/3vH/roR8KgQkIy6gVwr0Hci/u9ArhLWvfq+/qd90r0jUZ/w3qAlFJaybuXnKyL7tRrIZhBfzIEIhEWhfvW177+J1/4AjNlA++dKCyXy4cevvIrn/rUlStX2rZxwT/y6KMXLt63t7vLxOIJidRMGMGga9s3L7PknJcxPf/cc23XZdO26/7SRz76kz/1k9PZ4i1XfnlQlV27/Of/7J995rc/fRznVTGuhoOr167+3//qX33yF39+sVionbztygLuNf83IYR79X1dSHdR0BsF+Hf9+eq2Pv/q3Xg6OefAVh1EFGPsui7GqPeM9aLdZ//gs4vFHADKqswpt007GAz+4a/92qOPPYaIKeWY09aZ7R/+0IdGkw0fggEgYte2y+ViPRr5HlM1ONmwCNC3wDRNO1sskmpRVx//xI/7oqhHw9HmFvpQjzc+9au/+g9//dfLwWj/+CimFIrydz/zO3/6+T9xLOsp/uqF7xrrcN8VIN07vbvusTUPgWvjLnn0Y6Xv93YHrecH/axeW7cEADs5+yL3XjTGGGPsuphS2trcBMCUU9/CxcI//okff+sTT8Su61slU85A+APvec/jT7w1aur3jBoYsxwdHzVNs37exQlAp/2qpmpmR8dHr159tW8ceOytb33v+55qY2uEnVoG7LJFg4/+2I/9vX/wDz728b88mox39nbn8/n/+j//L1/78ldtrV3+jXQT7xmrn1bAvXl0u6Ly9X/vSsHu/XqX2Hp4VwpBK4mllFLsI+8e59Rv2FDTruve+Y53DgdDVVsulyz8E3/lr/zsz/5s7Do1VVNTJWEgeuDSgx/44AfPnj+XcupXF0IIy+Xy5s2bgLiSwWt6uqZZVVVdfuihxWKxf3g43tzYmGwkNTU1REUyYvYhqf3Ij338n/5P/+N/+SufYqI7t29/99lv/5P/7h/99qc/3TRN/4b0BuMufli3iTfC8XVZa4VYvmes3uUu/ulHr9Z4uuDcX6S+58LMiPplaAJCIELC03IWmurGxqgeBicAkB9/7PH/5JM/Vw83DAVRNIMpWV+BIfzQhz/8cz//C74IKSfNSoBs+MzXvlGQlD6gGWRlQMG+4TEDKpilmNmHBx55CxUVij88mgGQIPW79zR1KXVt23YxzRfLpos/+vGP/+Pf+I2f+pmfOZzPb+zu/MvPfOY3f/M3r1+/3neSvS6rvJFew2nrQ79OsG4fK+pfN5cV160kdBf/6OsFRasm6Bhj27Zd1/W3Sc/1qkC0MhMgIgW2GE+eLnT27JlLD16cTQ+ODxY565nzF5AZkFQ1Z0OCtuuYSAiHo+H7f+j9V65cefZr3zSz5WLhnPze7/zume3tH/7oh+u6nkwmPVWLSNTcn+qTUiqKYjCZLJtYD4YvPPfC05/9w4v3XTx77uxoc9K7LCICIGBQMyL+yx//+I994hMf/tjHvvCFL3zgAx/Y2trqVcy+N/ZYtdC+EaW8rpBWyKaUlsvlcrnc3t6+i2TW5bdOrattMCuLV9W+07BfA0gptW17so3p//y9f90/ojdSInLu5OSM1eQK70qHv/eZT//Wb/3Wrb3Dot549LFHn3zXuz/5yU9WVdV3kZJHIhRiAiSAf/nbv/0//Po/KULRbyLrug6Jzlw4NxwOP/jBD/7SL/1SWZYppQQnQXF/DtTTTz/9X/yt/+zifRcAMKVU1/VHP/bR//q/+Tv6vQCtlDSlVJaliPQK1f9HJ2VeOQnw1uOiu+zgrq8rCuoVf4Vdj1pRFKsYZl21bS3O6Ymlp/iVNvQCa9tWRPoll3V+k8Visb4JO+fctu1JhwRi/+gjgELwXe/+gT/4t0935nYPp9/4+jcPD44+/OEPb21t9Vzf5IYQGFGTOuYnn3zy537hFz73+c85cV3X9fqeNE9nsxs3brz00kubm5s553zaQt+b5/b29l/96Z/e290FxK5tiejs9pnbt293MSJijLHfXy8i/cROziBQ7dtY+yJSD02P2jq+Kxd9VyC/yol6KPsXX5UL+xv6eMTstSb+dbpf6VD/pqvb8HQRpuu6lVWFEHoh9XaP/+J/+7T3frFYFEWxIj7nhIhEpBejC6V2y0A6nU3bjORKMt3Y2CjLEqBv4gPl3MdSZIAGwXtZ7XwAAARC8t73QNhpGoLueygbERlOdgA6caoZEaOd9IWvNN1737+Mc67/aV0l1zkE1jIDfINUFk/7+gGg67redFTVOde27QqTvkXlLorT0zasPnhZWc9qCazv8l8x/ir87+11NptJ73+qquopKecs8trJECICgCi+HNak3XC8Aa5ECdq1QsgiK+DQQX/cCBqggWOOqv2BfCud6t09MxNzipFFMr4WFJ/A5KQ/Py6ZOVeoqkunexlOoelrpSd77U8pGL533CuJlQBWP92VGyJib2G9Hcxms15j7HvHSvd7xPvn9xa57m9OPUUGMBGXT8PCddNxzokw55TMTPuGOjAwSDH1mtufPqCpSeiol1xeIHdeOGWLuesPJmBii8ZEQNTvoc8ALJxyAkBQRYSYEyGaGqt6hKhqqkDYz3u1wVMBctYihJSSZjUzJ9Jj1x+zsg7fSut7Revf8K64BU/rYit0bC0yWW2yWBnE6vm99vRf19l8PWC10/AGEb33p/msIRKiAeSUuqxZNZvS+jTMDA0YUWLXee9TjHQanzJR27bWH7WEymYslpOCyCk1xpM01kwNyMgAsD88re+aR0Mw0JM3IaZe6ApATECoAECYwVBthdoJ4RoULGSAaojAry3d2KpPbT2oX0EJp+R2FxetBLAikz4a6Y/OXB0Bs67gq8fq6eLtuqavflo3nfUrqkrEfS7ca5RqlxObnVJZPx9VRvp/AFJRbz3dIdw4AAAAAElFTkSuQmCC\n"
                },
                "metadata": {}
              }
            ]
          }
        },
        "65ca9976d11146e0b22e514a6457f550": {
          "model_module": "@jupyter-widgets/controls",
          "model_name": "LabelModel",
          "model_module_version": "1.5.0",
          "state": {
            "_dom_classes": [],
            "_model_module": "@jupyter-widgets/controls",
            "_model_module_version": "1.5.0",
            "_model_name": "LabelModel",
            "_view_count": null,
            "_view_module": "@jupyter-widgets/controls",
            "_view_module_version": "1.5.0",
            "_view_name": "LabelView",
            "description": "",
            "description_tooltip": null,
            "layout": "IPY_MODEL_06ae4f1253fb4b3791ec8aacd2d30161",
            "placeholder": "​",
            "style": "IPY_MODEL_95b02d569ba6441688d55176195a4fba",
            "value": "Prediction: grizzly; Probability: 1.0000"
          }
        },
        "96fd35adb236411b984973d706608c0d": {
          "model_module": "@jupyter-widgets/base",
          "model_name": "LayoutModel",
          "model_module_version": "1.2.0",
          "state": {
            "_model_module": "@jupyter-widgets/base",
            "_model_module_version": "1.2.0",
            "_model_name": "LayoutModel",
            "_view_count": null,
            "_view_module": "@jupyter-widgets/base",
            "_view_module_version": "1.2.0",
            "_view_name": "LayoutView",
            "align_content": null,
            "align_items": null,
            "align_self": null,
            "border": null,
            "bottom": null,
            "display": null,
            "flex": null,
            "flex_flow": null,
            "grid_area": null,
            "grid_auto_columns": null,
            "grid_auto_flow": null,
            "grid_auto_rows": null,
            "grid_column": null,
            "grid_gap": null,
            "grid_row": null,
            "grid_template_areas": null,
            "grid_template_columns": null,
            "grid_template_rows": null,
            "height": null,
            "justify_content": null,
            "justify_items": null,
            "left": null,
            "margin": null,
            "max_height": null,
            "max_width": null,
            "min_height": null,
            "min_width": null,
            "object_fit": null,
            "object_position": null,
            "order": null,
            "overflow": null,
            "overflow_x": null,
            "overflow_y": null,
            "padding": null,
            "right": null,
            "top": null,
            "visibility": null,
            "width": null
          }
        },
        "054dfdaf793845c2a5ac2c6a48c67fd6": {
          "model_module": "@jupyter-widgets/base",
          "model_name": "LayoutModel",
          "model_module_version": "1.2.0",
          "state": {
            "_model_module": "@jupyter-widgets/base",
            "_model_module_version": "1.2.0",
            "_model_name": "LayoutModel",
            "_view_count": null,
            "_view_module": "@jupyter-widgets/base",
            "_view_module_version": "1.2.0",
            "_view_name": "LayoutView",
            "align_content": null,
            "align_items": null,
            "align_self": null,
            "border": null,
            "bottom": null,
            "display": null,
            "flex": null,
            "flex_flow": null,
            "grid_area": null,
            "grid_auto_columns": null,
            "grid_auto_flow": null,
            "grid_auto_rows": null,
            "grid_column": null,
            "grid_gap": null,
            "grid_row": null,
            "grid_template_areas": null,
            "grid_template_columns": null,
            "grid_template_rows": null,
            "height": null,
            "justify_content": null,
            "justify_items": null,
            "left": null,
            "margin": null,
            "max_height": null,
            "max_width": null,
            "min_height": null,
            "min_width": null,
            "object_fit": null,
            "object_position": null,
            "order": null,
            "overflow": null,
            "overflow_x": null,
            "overflow_y": null,
            "padding": null,
            "right": null,
            "top": null,
            "visibility": null,
            "width": null
          }
        },
        "eac08f6283934be28ef50326dafb4515": {
          "model_module": "@jupyter-widgets/controls",
          "model_name": "DescriptionStyleModel",
          "model_module_version": "1.5.0",
          "state": {
            "_model_module": "@jupyter-widgets/controls",
            "_model_module_version": "1.5.0",
            "_model_name": "DescriptionStyleModel",
            "_view_count": null,
            "_view_module": "@jupyter-widgets/base",
            "_view_module_version": "1.2.0",
            "_view_name": "StyleView",
            "description_width": ""
          }
        },
        "aab699af0e3448c4a1e9f728af47e595": {
          "model_module": "@jupyter-widgets/base",
          "model_name": "LayoutModel",
          "model_module_version": "1.2.0",
          "state": {
            "_model_module": "@jupyter-widgets/base",
            "_model_module_version": "1.2.0",
            "_model_name": "LayoutModel",
            "_view_count": null,
            "_view_module": "@jupyter-widgets/base",
            "_view_module_version": "1.2.0",
            "_view_name": "LayoutView",
            "align_content": null,
            "align_items": null,
            "align_self": null,
            "border": null,
            "bottom": null,
            "display": null,
            "flex": null,
            "flex_flow": null,
            "grid_area": null,
            "grid_auto_columns": null,
            "grid_auto_flow": null,
            "grid_auto_rows": null,
            "grid_column": null,
            "grid_gap": null,
            "grid_row": null,
            "grid_template_areas": null,
            "grid_template_columns": null,
            "grid_template_rows": null,
            "height": null,
            "justify_content": null,
            "justify_items": null,
            "left": null,
            "margin": null,
            "max_height": null,
            "max_width": null,
            "min_height": null,
            "min_width": null,
            "object_fit": null,
            "object_position": null,
            "order": null,
            "overflow": null,
            "overflow_x": null,
            "overflow_y": null,
            "padding": null,
            "right": null,
            "top": null,
            "visibility": null,
            "width": null
          }
        },
        "e77b1ad969e047c0bfe936b597819a04": {
          "model_module": "@jupyter-widgets/controls",
          "model_name": "ButtonStyleModel",
          "model_module_version": "1.5.0",
          "state": {
            "_model_module": "@jupyter-widgets/controls",
            "_model_module_version": "1.5.0",
            "_model_name": "ButtonStyleModel",
            "_view_count": null,
            "_view_module": "@jupyter-widgets/base",
            "_view_module_version": "1.2.0",
            "_view_name": "StyleView",
            "button_color": null,
            "font_weight": ""
          }
        },
        "06ae4f1253fb4b3791ec8aacd2d30161": {
          "model_module": "@jupyter-widgets/base",
          "model_name": "LayoutModel",
          "model_module_version": "1.2.0",
          "state": {
            "_model_module": "@jupyter-widgets/base",
            "_model_module_version": "1.2.0",
            "_model_name": "LayoutModel",
            "_view_count": null,
            "_view_module": "@jupyter-widgets/base",
            "_view_module_version": "1.2.0",
            "_view_name": "LayoutView",
            "align_content": null,
            "align_items": null,
            "align_self": null,
            "border": null,
            "bottom": null,
            "display": null,
            "flex": null,
            "flex_flow": null,
            "grid_area": null,
            "grid_auto_columns": null,
            "grid_auto_flow": null,
            "grid_auto_rows": null,
            "grid_column": null,
            "grid_gap": null,
            "grid_row": null,
            "grid_template_areas": null,
            "grid_template_columns": null,
            "grid_template_rows": null,
            "height": null,
            "justify_content": null,
            "justify_items": null,
            "left": null,
            "margin": null,
            "max_height": null,
            "max_width": null,
            "min_height": null,
            "min_width": null,
            "object_fit": null,
            "object_position": null,
            "order": null,
            "overflow": null,
            "overflow_x": null,
            "overflow_y": null,
            "padding": null,
            "right": null,
            "top": null,
            "visibility": null,
            "width": null
          }
        },
        "95b02d569ba6441688d55176195a4fba": {
          "model_module": "@jupyter-widgets/controls",
          "model_name": "DescriptionStyleModel",
          "model_module_version": "1.5.0",
          "state": {
            "_model_module": "@jupyter-widgets/controls",
            "_model_module_version": "1.5.0",
            "_model_name": "DescriptionStyleModel",
            "_view_count": null,
            "_view_module": "@jupyter-widgets/base",
            "_view_module_version": "1.2.0",
            "_view_name": "StyleView",
            "description_width": ""
          }
        },
        "e7812882330c42c9b970a04de6585811": {
          "model_module": "@jupyter-widgets/base",
          "model_name": "LayoutModel",
          "model_module_version": "1.2.0",
          "state": {
            "_model_module": "@jupyter-widgets/base",
            "_model_module_version": "1.2.0",
            "_model_name": "LayoutModel",
            "_view_count": null,
            "_view_module": "@jupyter-widgets/base",
            "_view_module_version": "1.2.0",
            "_view_name": "LayoutView",
            "align_content": null,
            "align_items": null,
            "align_self": null,
            "border": null,
            "bottom": null,
            "display": null,
            "flex": null,
            "flex_flow": null,
            "grid_area": null,
            "grid_auto_columns": null,
            "grid_auto_flow": null,
            "grid_auto_rows": null,
            "grid_column": null,
            "grid_gap": null,
            "grid_row": null,
            "grid_template_areas": null,
            "grid_template_columns": null,
            "grid_template_rows": null,
            "height": null,
            "justify_content": null,
            "justify_items": null,
            "left": null,
            "margin": null,
            "max_height": null,
            "max_width": null,
            "min_height": null,
            "min_width": null,
            "object_fit": null,
            "object_position": null,
            "order": null,
            "overflow": null,
            "overflow_x": null,
            "overflow_y": null,
            "padding": null,
            "right": null,
            "top": null,
            "visibility": null,
            "width": null
          }
        }
      }
    }
  },
  "nbformat": 4,
  "nbformat_minor": 0
}